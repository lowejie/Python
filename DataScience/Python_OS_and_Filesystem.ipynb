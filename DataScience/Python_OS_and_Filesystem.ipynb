{
  "cells": [
    {
      "cell_type": "markdown",
      "metadata": {
        "id": "view-in-github",
        "colab_type": "text"
      },
      "source": [
        "<a href=\"https://colab.research.google.com/github/lowejie/Python/blob/main/Python_OS_and_Filesystem.ipynb\" target=\"_parent\"><img src=\"https://colab.research.google.com/assets/colab-badge.svg\" alt=\"Open In Colab\"/></a>"
      ]
    },
    {
      "cell_type": "markdown",
      "metadata": {
        "id": "E7lJBh68ooxF"
      },
      "source": [
        "# Reading from and Writing to Files using Python\n",
        "\n",
        "![](https://i.imgur.com/rv8wZ7l.png)\n",
        "\n",
        "### Part 5 of \"Data Analysis with Python: Zero to Pandas\"\n",
        "\n",
        "\n",
        "This tutorial series is a beginner-friendly introduction to programming and data analysis using the Python programming language. These tutorials take a practical and coding-focused approach. The best way to learn the material is to execute the code and experiment with it yourself. Check out the full series here:\n",
        "\n",
        "1. [First Steps with Python and Jupyter](https://jovian.ai/aakashns/first-steps-with-python)\n",
        "2. [A Quick Tour of Variables and Data Types](https://jovian.ai/aakashns/python-variables-and-data-types)\n",
        "3. [Branching using Conditional Statements and Loops](https://jovian.ai/aakashns/python-branching-and-loops)\n",
        "4. [Writing Reusable Code Using Functions](https://jovian.ai/aakashns/python-functions-and-scope)\n",
        "5. [Reading from and Writing to Files](https://jovian.ai/aakashns/python-os-and-filesystem)\n",
        "6. [Numerical Computing with Python and Numpy](https://jovian.ai/aakashns/python-numerical-computing-with-numpy)\n",
        "7. [Analyzing Tabular Data using Pandas](https://jovian.ai/aakashns/python-pandas-data-analysis)\n",
        "8. [Data Visualization using Matplotlib & Seaborn](https://jovian.ai/aakashns/python-matplotlib-data-visualization)\n",
        "9. [Exploratory Data Analysis - A Case Study](https://jovian.ai/aakashns/python-eda-stackoverflow-survey)\n"
      ]
    },
    {
      "cell_type": "markdown",
      "metadata": {
        "id": "8WF6IK4MooxJ"
      },
      "source": [
        "This tutorial covers the following topics:\n",
        "\n",
        "- Interacting with the filesystem using the `os` module\n",
        "- Downloading files from the internet using the `urllib` module\n",
        "- Reading and processing data from text files\n",
        "- Parsing data from CSV files into dictionaries & lists\n",
        "- Writing formatted data back to text files"
      ]
    },
    {
      "cell_type": "markdown",
      "metadata": {
        "id": "oCG2p2JnooxK"
      },
      "source": [
        "## Interacting with the OS and filesystem\n",
        "\n",
        "The `os` module in Python provides many functions for interacting with the OS and the filesystem. Let's import it and try out some examples."
      ]
    },
    {
      "cell_type": "code",
      "execution_count": 46,
      "metadata": {
        "id": "1txM-MehooxK"
      },
      "outputs": [],
      "source": [
        "import os"
      ]
    },
    {
      "cell_type": "markdown",
      "metadata": {
        "id": "yCjGGVbHooxL"
      },
      "source": [
        "We can check the present working directory using the `os.getcwd` function."
      ]
    },
    {
      "cell_type": "code",
      "execution_count": 47,
      "metadata": {
        "colab": {
          "base_uri": "https://localhost:8080/",
          "height": 36
        },
        "id": "Ucw7JOakooxL",
        "outputId": "d837e566-0406-4747-ff10-5b0e50dc2894"
      },
      "outputs": [
        {
          "output_type": "execute_result",
          "data": {
            "text/plain": [
              "'/content'"
            ],
            "application/vnd.google.colaboratory.intrinsic+json": {
              "type": "string"
            }
          },
          "metadata": {},
          "execution_count": 47
        }
      ],
      "source": [
        "os.getcwd()"
      ]
    },
    {
      "cell_type": "markdown",
      "metadata": {
        "id": "9uuOfNaeooxM"
      },
      "source": [
        "To get the list of files in a directory, use `os.listdir`. You pass an absolute or relative path of a directory as the argument to the function."
      ]
    },
    {
      "cell_type": "code",
      "execution_count": 48,
      "metadata": {
        "colab": {
          "base_uri": "https://localhost:8080/"
        },
        "id": "lxYIqnSuooxM",
        "outputId": "66942f7c-0ca2-46d5-d98a-fe44750e9131"
      },
      "outputs": [
        {
          "output_type": "stream",
          "name": "stdout",
          "text": [
            "Help on built-in function listdir in module posix:\n",
            "\n",
            "listdir(path=None)\n",
            "    Return a list containing the names of the files in the directory.\n",
            "    \n",
            "    path can be specified as either str, bytes, or a path-like object.  If path is bytes,\n",
            "      the filenames returned will also be bytes; in all other circumstances\n",
            "      the filenames returned will be str.\n",
            "    If path is None, uses the path='.'.\n",
            "    On some platforms, path may also be specified as an open file descriptor;\\\n",
            "      the file descriptor must refer to a directory.\n",
            "      If this functionality is unavailable, using it raises NotImplementedError.\n",
            "    \n",
            "    The list is in arbitrary order.  It does not include the special\n",
            "    entries '.' and '..' even if they are present in the directory.\n",
            "\n"
          ]
        }
      ],
      "source": [
        "help(os.listdir)"
      ]
    },
    {
      "cell_type": "code",
      "execution_count": 49,
      "metadata": {
        "colab": {
          "base_uri": "https://localhost:8080/"
        },
        "id": "lpVBd-hYooxM",
        "outputId": "c7b2ef1a-8ac0-4188-ecdd-c7bf24cd2c0e"
      },
      "outputs": [
        {
          "output_type": "execute_result",
          "data": {
            "text/plain": [
              "['.config', 'data2', 'sample_data']"
            ]
          },
          "metadata": {},
          "execution_count": 49
        }
      ],
      "source": [
        "os.listdir('.') # relative path"
      ]
    },
    {
      "cell_type": "code",
      "execution_count": 50,
      "metadata": {
        "colab": {
          "base_uri": "https://localhost:8080/"
        },
        "id": "f7aRIJeBooxN",
        "outputId": "5ab592e0-0c6f-4a2f-a0a7-89d26f804bc6"
      },
      "outputs": [
        {
          "output_type": "execute_result",
          "data": {
            "text/plain": [
              "['libx32',\n",
              " 'bin',\n",
              " 'lib64',\n",
              " 'local',\n",
              " 'include',\n",
              " 'src',\n",
              " 'lib',\n",
              " 'libexec',\n",
              " 'sbin',\n",
              " 'share',\n",
              " 'lib32',\n",
              " 'games',\n",
              " 'colab',\n",
              " 'grte']"
            ]
          },
          "metadata": {},
          "execution_count": 50
        }
      ],
      "source": [
        "os.listdir('/usr') # absolute path"
      ]
    },
    {
      "cell_type": "markdown",
      "metadata": {
        "id": "IxaVE131ooxN"
      },
      "source": [
        "You can create a new directory using `os.makedirs`. Let's create a new directory called `data`, where we'll later download some files."
      ]
    },
    {
      "cell_type": "code",
      "source": [
        "os.listdir('/usr/lib32')"
      ],
      "metadata": {
        "colab": {
          "base_uri": "https://localhost:8080/"
        },
        "id": "wJP8_18npbP7",
        "outputId": "83938f3f-eb04-4e27-b328-8daa21cb7ebc"
      },
      "execution_count": 51,
      "outputs": [
        {
          "output_type": "execute_result",
          "data": {
            "text/plain": [
              "['libresolv.so.2',\n",
              " 'libnss_compat.so.2',\n",
              " 'libc_malloc_debug.so.0',\n",
              " 'libmemusage.so',\n",
              " 'libnss_files.so.2',\n",
              " 'libstdc++.so.6',\n",
              " 'libpthread.so.0',\n",
              " 'libutil.so.1',\n",
              " 'libBrokenLocale.so.1',\n",
              " 'gconv',\n",
              " 'libnss_hesiod.so.2',\n",
              " 'libdl.so.2',\n",
              " 'libnss_dns.so.2',\n",
              " 'libpcprofile.so',\n",
              " 'libnsl.so.1',\n",
              " 'libm.so.6',\n",
              " 'ld-linux.so.2',\n",
              " 'libgcc_s.so.1',\n",
              " 'libanl.so.1',\n",
              " 'libthread_db.so.1',\n",
              " 'libc.so.6',\n",
              " 'libstdc++.so.6.0.30',\n",
              " 'librt.so.1']"
            ]
          },
          "metadata": {},
          "execution_count": 51
        }
      ]
    },
    {
      "cell_type": "code",
      "execution_count": 52,
      "metadata": {
        "id": "XoBbppApooxN"
      },
      "outputs": [],
      "source": [
        "os.makedirs('./data', exist_ok=True)"
      ]
    },
    {
      "cell_type": "code",
      "source": [
        "help(os.makedirs)"
      ],
      "metadata": {
        "colab": {
          "base_uri": "https://localhost:8080/"
        },
        "id": "6S6gtjuOpjeL",
        "outputId": "1305fa82-44c2-42dc-ae74-41748be503e2"
      },
      "execution_count": 53,
      "outputs": [
        {
          "output_type": "stream",
          "name": "stdout",
          "text": [
            "Help on function makedirs in module os:\n",
            "\n",
            "makedirs(name, mode=511, exist_ok=False)\n",
            "    makedirs(name [, mode=0o777][, exist_ok=False])\n",
            "    \n",
            "    Super-mkdir; create a leaf directory and all intermediate ones.  Works like\n",
            "    mkdir, except that any intermediate path segment (not just the rightmost)\n",
            "    will be created if it does not exist. If the target directory already\n",
            "    exists, raise an OSError if exist_ok is False. Otherwise no exception is\n",
            "    raised.  This is recursive.\n",
            "\n"
          ]
        }
      ]
    },
    {
      "cell_type": "markdown",
      "metadata": {
        "id": "lZVCDqRMooxN"
      },
      "source": [
        "Can you figure out what the argument `exist_ok` does? Try using the `help` function or [read the documentation](https://docs.python.org/3/library/os.html#os.makedirs).\n",
        "\n",
        "Let's verify that the directory was created and is currently empty."
      ]
    },
    {
      "cell_type": "code",
      "execution_count": 54,
      "metadata": {
        "colab": {
          "base_uri": "https://localhost:8080/"
        },
        "id": "nEv0KEyIooxN",
        "outputId": "fba4f6e1-64f2-4cdc-b78f-aff783a135db"
      },
      "outputs": [
        {
          "output_type": "execute_result",
          "data": {
            "text/plain": [
              "True"
            ]
          },
          "metadata": {},
          "execution_count": 54
        }
      ],
      "source": [
        "'data' in os.listdir('.')"
      ]
    },
    {
      "cell_type": "code",
      "execution_count": 55,
      "metadata": {
        "colab": {
          "base_uri": "https://localhost:8080/"
        },
        "id": "QGui7QRgooxO",
        "outputId": "2db14567-9f74-4c0a-9070-0556d2550453"
      },
      "outputs": [
        {
          "output_type": "execute_result",
          "data": {
            "text/plain": [
              "[]"
            ]
          },
          "metadata": {},
          "execution_count": 55
        }
      ],
      "source": [
        "os.listdir('./data')"
      ]
    },
    {
      "cell_type": "markdown",
      "metadata": {
        "id": "28XLtgreooxO"
      },
      "source": [
        "Let us download some files into the `data` directory using the `urllib` module."
      ]
    },
    {
      "cell_type": "code",
      "execution_count": 56,
      "metadata": {
        "id": "mkydkqJaooxO"
      },
      "outputs": [],
      "source": [
        "url1 = 'https://gist.githubusercontent.com/aakashns/257f6e6c8719c17d0e498ea287d1a386/raw/7def9ef4234ddf0bc82f855ad67dac8b971852ef/loans1.txt'\n",
        "url2 = 'https://gist.githubusercontent.com/aakashns/257f6e6c8719c17d0e498ea287d1a386/raw/7def9ef4234ddf0bc82f855ad67dac8b971852ef/loans2.txt'\n",
        "url3 = 'https://gist.githubusercontent.com/aakashns/257f6e6c8719c17d0e498ea287d1a386/raw/7def9ef4234ddf0bc82f855ad67dac8b971852ef/loans3.txt'"
      ]
    },
    {
      "cell_type": "code",
      "execution_count": 57,
      "metadata": {
        "id": "qMoieVRtooxO"
      },
      "outputs": [],
      "source": [
        "from urllib.request import urlretrieve"
      ]
    },
    {
      "cell_type": "code",
      "execution_count": 58,
      "metadata": {
        "colab": {
          "base_uri": "https://localhost:8080/"
        },
        "id": "kYSd-4ICooxP",
        "outputId": "12b5de24-2c79-422e-f63b-1f9fac667aa6"
      },
      "outputs": [
        {
          "output_type": "execute_result",
          "data": {
            "text/plain": [
              "('./data/loans1.txt', <http.client.HTTPMessage at 0x7ee5cdb64690>)"
            ]
          },
          "metadata": {},
          "execution_count": 58
        }
      ],
      "source": [
        "urlretrieve(url1, './data/loans1.txt')"
      ]
    },
    {
      "cell_type": "code",
      "execution_count": 59,
      "metadata": {
        "colab": {
          "base_uri": "https://localhost:8080/"
        },
        "id": "v2RBU4KvooxP",
        "outputId": "b29c80c7-ad6f-4a39-936c-a0886a8019c6"
      },
      "outputs": [
        {
          "output_type": "execute_result",
          "data": {
            "text/plain": [
              "('./data/loans2.txt', <http.client.HTTPMessage at 0x7ee5cdb85a90>)"
            ]
          },
          "metadata": {},
          "execution_count": 59
        }
      ],
      "source": [
        "urlretrieve(url2, './data/loans2.txt')"
      ]
    },
    {
      "cell_type": "code",
      "execution_count": 60,
      "metadata": {
        "colab": {
          "base_uri": "https://localhost:8080/"
        },
        "id": "WrxGVPXpooxP",
        "outputId": "aa94148c-4a7f-431f-a86b-28898a2c3896"
      },
      "outputs": [
        {
          "output_type": "execute_result",
          "data": {
            "text/plain": [
              "('./data/loans3.txt', <http.client.HTTPMessage at 0x7ee5cdb87b90>)"
            ]
          },
          "metadata": {},
          "execution_count": 60
        }
      ],
      "source": [
        "urlretrieve(url3, './data/loans3.txt')"
      ]
    },
    {
      "cell_type": "markdown",
      "metadata": {
        "id": "AeUgfpbrooxP"
      },
      "source": [
        "Let's verify that the files were downloaded."
      ]
    },
    {
      "cell_type": "code",
      "execution_count": 61,
      "metadata": {
        "colab": {
          "base_uri": "https://localhost:8080/"
        },
        "id": "IP7qMsl1ooxP",
        "outputId": "12752046-fb6b-4e5d-d224-d644e053fc27"
      },
      "outputs": [
        {
          "output_type": "execute_result",
          "data": {
            "text/plain": [
              "['loans3.txt', 'loans1.txt', 'loans2.txt']"
            ]
          },
          "metadata": {},
          "execution_count": 61
        }
      ],
      "source": [
        "os.listdir('./data')"
      ]
    },
    {
      "cell_type": "markdown",
      "metadata": {
        "id": "vHvN2aUhooxP"
      },
      "source": [
        "You can also use the [`requests`](https://docs.python-requests.org/en/master/) library to dowload URLs, although you'll need to [write some additional code](https://stackoverflow.com/questions/44699682/how-to-save-a-file-downloaded-from-requests-to-another-directory) to save the contents of the page to a file."
      ]
    },
    {
      "cell_type": "markdown",
      "metadata": {
        "id": "Enkkxwe9ooxQ"
      },
      "source": [
        "## Reading from a file\n",
        "\n",
        "To read the contents of a file, we first need to open the file using the built-in `open` function. The `open` function returns a file object and provides several methods for interacting with the file's contents."
      ]
    },
    {
      "cell_type": "code",
      "execution_count": 62,
      "metadata": {
        "id": "eyJd26CEooxQ"
      },
      "outputs": [],
      "source": [
        "file1 = open('./data/loans1.txt', mode='r')"
      ]
    },
    {
      "cell_type": "markdown",
      "metadata": {
        "id": "b7_5LcBuooxQ"
      },
      "source": [
        "The `open` function also accepts a `mode` argument to specifies how we can interact with the file. The following options are supported:\n",
        "\n",
        "```\n",
        "    ========= ===============================================================\n",
        "    Character Meaning\n",
        "    --------- ---------------------------------------------------------------\n",
        "    'r'       open for reading (default)\n",
        "    'w'       open for writing, truncating the file first\n",
        "    'x'       create a new file and open it for writing\n",
        "    'a'       open for writing, appending to the end of the file if it exists\n",
        "    'b'       binary mode\n",
        "    't'       text mode (default)\n",
        "    '+'       open a disk file for updating (reading and writing)\n",
        "    'U'       universal newline mode (deprecated)\n",
        "    ========= ===============================================================\n",
        "```\n",
        "\n",
        "To view the contents of the file, we can use the `read` method of the file object."
      ]
    },
    {
      "cell_type": "code",
      "execution_count": 63,
      "metadata": {
        "id": "kt32es24ooxQ"
      },
      "outputs": [],
      "source": [
        "file1_contents = file1.read()"
      ]
    },
    {
      "cell_type": "code",
      "execution_count": 64,
      "metadata": {
        "colab": {
          "base_uri": "https://localhost:8080/"
        },
        "id": "Et88m0K4ooxQ",
        "outputId": "71666597-b9f0-405b-def8-3022ebec500b"
      },
      "outputs": [
        {
          "output_type": "stream",
          "name": "stdout",
          "text": [
            "amount,duration,rate,down_payment\n",
            "100000,36,0.08,20000\n",
            "200000,12,0.1,\n",
            "628400,120,0.12,100000\n",
            "4637400,240,0.06,\n",
            "42900,90,0.07,8900\n",
            "916000,16,0.13,\n",
            "45230,48,0.08,4300\n",
            "991360,99,0.08,\n",
            "423000,27,0.09,47200\n"
          ]
        }
      ],
      "source": [
        "print(file1_contents)"
      ]
    },
    {
      "cell_type": "markdown",
      "metadata": {
        "id": "XrijJtmJooxR"
      },
      "source": [
        "The file contains information about loans. It is a set of comma-separated values (CSV).\n",
        "\n",
        "> **CSVs**: A comma-separated values (CSV) file is a delimited text file that uses a comma to separate values. Each line of the file is a data record. Each record consists of one or more fields, separated by commas. A CSV file typically stores tabular data (numbers and text) in plain text, in which case each line will have the same number of fields. (Wikipedia)\n",
        "\n",
        "The first line of the file is the header, indicating what each of the numbers on the remaining lines represents. Each of the remaining lines provides information about a loan. Thus, the second line `10000,36,0.08,20000` represents a loan with:\n",
        "\n",
        "* an *amount* of `$10000`,\n",
        "* *duration* of `36` months,\n",
        "* *rate of interest* of `8%` per annum, and\n",
        "* a down payment of `$20000`\n",
        "\n",
        "The CSV is a standard file format used for sharing data for analysis and visualization. Over the course of this tutorial, we will read the data from these CSV files, process it, and write the results back to files. Before we continue, let's close the file using the `close` method (otherwise, Python will continue to hold the entire file in the RAM)"
      ]
    },
    {
      "cell_type": "code",
      "execution_count": 65,
      "metadata": {
        "id": "FngvlYojooxR"
      },
      "outputs": [],
      "source": [
        "file1.close()"
      ]
    },
    {
      "cell_type": "markdown",
      "metadata": {
        "id": "DA1sW5qVooxS"
      },
      "source": [
        "Once a file is closed, you can no longer read from it."
      ]
    },
    {
      "cell_type": "code",
      "execution_count": 66,
      "metadata": {
        "colab": {
          "base_uri": "https://localhost:8080/",
          "height": 147
        },
        "id": "sz-UtzQGooxS",
        "outputId": "4d597bed-220d-4f0f-d931-edf0883ff0ab"
      },
      "outputs": [
        {
          "output_type": "error",
          "ename": "ValueError",
          "evalue": "I/O operation on closed file.",
          "traceback": [
            "\u001b[0;31m---------------------------------------------------------------------------\u001b[0m",
            "\u001b[0;31mValueError\u001b[0m                                Traceback (most recent call last)",
            "\u001b[0;32m<ipython-input-66-2fcf3b5e742f>\u001b[0m in \u001b[0;36m<cell line: 0>\u001b[0;34m()\u001b[0m\n\u001b[0;32m----> 1\u001b[0;31m \u001b[0mfile1\u001b[0m\u001b[0;34m.\u001b[0m\u001b[0mread\u001b[0m\u001b[0;34m(\u001b[0m\u001b[0;34m)\u001b[0m\u001b[0;34m\u001b[0m\u001b[0;34m\u001b[0m\u001b[0m\n\u001b[0m",
            "\u001b[0;31mValueError\u001b[0m: I/O operation on closed file."
          ]
        }
      ],
      "source": [
        "file1.read()"
      ]
    },
    {
      "cell_type": "markdown",
      "metadata": {
        "id": "TdlqF1XLooxS"
      },
      "source": [
        "## Closing files automatically using `with`\n",
        "\n",
        "To close a file automatically after you've processed it, you can open it using the `with` statement."
      ]
    },
    {
      "cell_type": "code",
      "execution_count": 116,
      "metadata": {
        "colab": {
          "base_uri": "https://localhost:8080/"
        },
        "id": "uQRYwHrYooxS",
        "outputId": "3529a9c1-67cb-49c4-b09e-1470953c6c17"
      },
      "outputs": [
        {
          "output_type": "stream",
          "name": "stdout",
          "text": [
            "amount,duration,rate,down_payment\n",
            "828400,120,0.11,100000\n",
            "4633400,240,0.06,\n",
            "42900,90,0.08,8900\n",
            "983000,16,0.14,\n",
            "15230,48,0.07,4300\n"
          ]
        }
      ],
      "source": [
        "with open('./data/loans2.txt') as file2:\n",
        "    file2_contents = file2.read()\n",
        "    print(file2_contents)"
      ]
    },
    {
      "cell_type": "markdown",
      "metadata": {
        "id": "LNC4GpnMooxS"
      },
      "source": [
        "Once the statements within the `with` block are executed, the `.close` method on `file2` is automatically invoked. Let's verify this by trying to read from the file object again."
      ]
    },
    {
      "cell_type": "code",
      "execution_count": 117,
      "metadata": {
        "colab": {
          "base_uri": "https://localhost:8080/",
          "height": 147
        },
        "id": "folubuAHooxS",
        "outputId": "ce6e706e-08bb-410f-c978-adfe771a1c30"
      },
      "outputs": [
        {
          "output_type": "error",
          "ename": "ValueError",
          "evalue": "I/O operation on closed file.",
          "traceback": [
            "\u001b[0;31m---------------------------------------------------------------------------\u001b[0m",
            "\u001b[0;31mValueError\u001b[0m                                Traceback (most recent call last)",
            "\u001b[0;32m<ipython-input-117-4a9205324152>\u001b[0m in \u001b[0;36m<cell line: 0>\u001b[0;34m()\u001b[0m\n\u001b[0;32m----> 1\u001b[0;31m \u001b[0mfile2\u001b[0m\u001b[0;34m.\u001b[0m\u001b[0mread\u001b[0m\u001b[0;34m(\u001b[0m\u001b[0;34m)\u001b[0m\u001b[0;34m\u001b[0m\u001b[0;34m\u001b[0m\u001b[0m\n\u001b[0m",
            "\u001b[0;31mValueError\u001b[0m: I/O operation on closed file."
          ]
        }
      ],
      "source": [
        "file2.read()"
      ]
    },
    {
      "cell_type": "markdown",
      "metadata": {
        "id": "Wh4Dl3khooxT"
      },
      "source": [
        "## Reading a file line by line\n",
        "\n",
        "\n",
        "File objects provide a `readlines` method to read a file line-by-line."
      ]
    },
    {
      "cell_type": "code",
      "execution_count": 118,
      "metadata": {
        "id": "_Z5MO98yooxT"
      },
      "outputs": [],
      "source": [
        "with open('./data/loans3.txt', 'r') as file3:\n",
        "    file3_lines = file3.readlines()"
      ]
    },
    {
      "cell_type": "code",
      "execution_count": 119,
      "metadata": {
        "colab": {
          "base_uri": "https://localhost:8080/"
        },
        "id": "opxWtSAIooxT",
        "outputId": "c3a7cf7f-145a-4c72-e9d5-0bde20cbb5eb"
      },
      "outputs": [
        {
          "output_type": "execute_result",
          "data": {
            "text/plain": [
              "['amount,duration,rate,down_payment\\n',\n",
              " '45230,48,0.07,4300\\n',\n",
              " '883000,16,0.14,\\n',\n",
              " '100000,12,0.1,\\n',\n",
              " '728400,120,0.12,100000\\n',\n",
              " '3637400,240,0.06,\\n',\n",
              " '82900,90,0.07,8900\\n',\n",
              " '316000,16,0.13,\\n',\n",
              " '15230,48,0.08,4300\\n',\n",
              " '991360,99,0.08,\\n',\n",
              " '323000,27,0.09,4720010000,36,0.08,20000\\n',\n",
              " '528400,120,0.11,100000\\n',\n",
              " '8633400,240,0.06,\\n',\n",
              " '12900,90,0.08,8900']"
            ]
          },
          "metadata": {},
          "execution_count": 119
        }
      ],
      "source": [
        "file3_lines"
      ]
    },
    {
      "cell_type": "code",
      "source": [
        "file3_lines[0].strip()"
      ],
      "metadata": {
        "colab": {
          "base_uri": "https://localhost:8080/",
          "height": 36
        },
        "id": "3Zpq5dnXrBU7",
        "outputId": "74de2859-fb1e-4efe-d14e-92fbfb7d1a0e"
      },
      "execution_count": 120,
      "outputs": [
        {
          "output_type": "execute_result",
          "data": {
            "text/plain": [
              "'amount,duration,rate,down_payment'"
            ],
            "application/vnd.google.colaboratory.intrinsic+json": {
              "type": "string"
            }
          },
          "metadata": {},
          "execution_count": 120
        }
      ]
    },
    {
      "cell_type": "code",
      "source": [
        "print(file2_contents)"
      ],
      "metadata": {
        "colab": {
          "base_uri": "https://localhost:8080/"
        },
        "id": "FPfRiPp8rdqE",
        "outputId": "38a5f89c-4fef-495d-a885-3320ddb74653"
      },
      "execution_count": 121,
      "outputs": [
        {
          "output_type": "stream",
          "name": "stdout",
          "text": [
            "amount,duration,rate,down_payment\n",
            "828400,120,0.11,100000\n",
            "4633400,240,0.06,\n",
            "42900,90,0.08,8900\n",
            "983000,16,0.14,\n",
            "15230,48,0.07,4300\n"
          ]
        }
      ]
    },
    {
      "cell_type": "code",
      "source": [
        "'828400,120,0.11,100000'.split(',')"
      ],
      "metadata": {
        "colab": {
          "base_uri": "https://localhost:8080/"
        },
        "id": "uZ_vqvqxrnXb",
        "outputId": "2244bcc8-1e2d-416b-b129-62a0c7a9f9bf"
      },
      "execution_count": 122,
      "outputs": [
        {
          "output_type": "execute_result",
          "data": {
            "text/plain": [
              "['828400', '120', '0.11', '100000']"
            ]
          },
          "metadata": {},
          "execution_count": 122
        }
      ]
    },
    {
      "cell_type": "code",
      "source": [
        "loans = [{\n",
        "    'amount': 828400,\n",
        "    'duration': 120,\n",
        "    'rate': 0.11,\n",
        "    'down_payment': 100000\n",
        "}\n",
        "]"
      ],
      "metadata": {
        "id": "rfA0ZzUlrwKc"
      },
      "execution_count": 123,
      "outputs": []
    },
    {
      "cell_type": "markdown",
      "metadata": {
        "id": "h4Malr1fooxT"
      },
      "source": [
        "## Processing data from files\n",
        "\n",
        "Before performing any operations on the data stored in a file, we need to convert the file's contents from one large string into Python data types. For the file `loans1.txt` containing information about loans in a CSV format, we can do the following:\n",
        "\n",
        "* Read the file line by line\n",
        "* Parse the first line to get a list of the column names or headers\n",
        "* Split each remaining line and convert each value into a float\n",
        "* Create a dictionary for each loan using the headers as keys\n",
        "* Create a list of dictionaries to keep track of all the loans\n",
        "\n",
        "Since we will perform the same operations for multiple files, it would be useful to define a function `read_csv`. We'll also define some helper functions to build up the functionality step by step.\n",
        "\n",
        "Let's start by defining a function `parse_header` that takes a line as input and returns a list of column headers."
      ]
    },
    {
      "cell_type": "code",
      "execution_count": 124,
      "metadata": {
        "id": "tLOQSorsooxT"
      },
      "outputs": [],
      "source": [
        "def parse_headers(header_line):\n",
        "    return header_line.strip().split(',')"
      ]
    },
    {
      "cell_type": "markdown",
      "metadata": {
        "id": "f17MbAXPooxU"
      },
      "source": [
        "The `strip` method removes any extra spaces and the newline character `\\n`. The `split` method breaks a string into a list using the given separator (`,` in this case)."
      ]
    },
    {
      "cell_type": "code",
      "execution_count": 125,
      "metadata": {
        "colab": {
          "base_uri": "https://localhost:8080/",
          "height": 36
        },
        "id": "kajym4dIooxU",
        "outputId": "cbbc56af-4ce2-48b6-de69-22c3d252d7a7"
      },
      "outputs": [
        {
          "output_type": "execute_result",
          "data": {
            "text/plain": [
              "'amount,duration,rate,down_payment\\n'"
            ],
            "application/vnd.google.colaboratory.intrinsic+json": {
              "type": "string"
            }
          },
          "metadata": {},
          "execution_count": 125
        }
      ],
      "source": [
        "file3_lines[0]"
      ]
    },
    {
      "cell_type": "code",
      "execution_count": 126,
      "metadata": {
        "id": "6C7Milu7ooxU"
      },
      "outputs": [],
      "source": [
        "headers = parse_headers(file3_lines[0])"
      ]
    },
    {
      "cell_type": "code",
      "execution_count": 127,
      "metadata": {
        "colab": {
          "base_uri": "https://localhost:8080/"
        },
        "id": "tBstEqH3ooxU",
        "outputId": "95bbbd9f-fddf-4e56-f34f-1a425b160046"
      },
      "outputs": [
        {
          "output_type": "execute_result",
          "data": {
            "text/plain": [
              "['amount', 'duration', 'rate', 'down_payment']"
            ]
          },
          "metadata": {},
          "execution_count": 127
        }
      ],
      "source": [
        "headers"
      ]
    },
    {
      "cell_type": "markdown",
      "metadata": {
        "id": "DWuQIe6RooxU"
      },
      "source": [
        "Next, let's define a function `parse_values` that takes a line containing some data and returns a list of floating-point numbers."
      ]
    },
    {
      "cell_type": "code",
      "execution_count": 128,
      "metadata": {
        "id": "0_6JJ6VkooxU"
      },
      "outputs": [],
      "source": [
        "def parse_values(data_line):\n",
        "    values = []\n",
        "    for item in data_line.strip().split(','):\n",
        "        values.append(float(item))\n",
        "    return values"
      ]
    },
    {
      "cell_type": "code",
      "execution_count": 129,
      "metadata": {
        "colab": {
          "base_uri": "https://localhost:8080/",
          "height": 36
        },
        "id": "mRXJCWF-ooxU",
        "outputId": "b9d82577-b800-4acb-b42f-5b708d32eae9"
      },
      "outputs": [
        {
          "output_type": "execute_result",
          "data": {
            "text/plain": [
              "'45230,48,0.07,4300\\n'"
            ],
            "application/vnd.google.colaboratory.intrinsic+json": {
              "type": "string"
            }
          },
          "metadata": {},
          "execution_count": 129
        }
      ],
      "source": [
        "file3_lines[1]"
      ]
    },
    {
      "cell_type": "code",
      "execution_count": 130,
      "metadata": {
        "colab": {
          "base_uri": "https://localhost:8080/"
        },
        "id": "rrPEb8RNooxV",
        "outputId": "960c0b5b-e3fb-4882-9bc5-9fb55b5f8259"
      },
      "outputs": [
        {
          "output_type": "execute_result",
          "data": {
            "text/plain": [
              "[45230.0, 48.0, 0.07, 4300.0]"
            ]
          },
          "metadata": {},
          "execution_count": 130
        }
      ],
      "source": [
        "parse_values(file3_lines[1])"
      ]
    },
    {
      "cell_type": "markdown",
      "metadata": {
        "id": "15YWYLpnooxV"
      },
      "source": [
        "The values were parsed and converted to floating point numbers, as expected. Let's try it for another line from the file, which does not contain a value for the down payment."
      ]
    },
    {
      "cell_type": "code",
      "execution_count": 131,
      "metadata": {
        "colab": {
          "base_uri": "https://localhost:8080/",
          "height": 36
        },
        "id": "jqp6KaWsooxV",
        "outputId": "b32c737b-9113-4313-e8ce-1b931bbbcb11"
      },
      "outputs": [
        {
          "output_type": "execute_result",
          "data": {
            "text/plain": [
              "'883000,16,0.14,\\n'"
            ],
            "application/vnd.google.colaboratory.intrinsic+json": {
              "type": "string"
            }
          },
          "metadata": {},
          "execution_count": 131
        }
      ],
      "source": [
        "file3_lines[2]"
      ]
    },
    {
      "cell_type": "code",
      "source": [
        "file3_lines[2].strip().split(',')"
      ],
      "metadata": {
        "colab": {
          "base_uri": "https://localhost:8080/"
        },
        "id": "J6agkheQsw8O",
        "outputId": "6b5c5085-354f-44a2-82e6-5ce05f2ab7e2"
      },
      "execution_count": 132,
      "outputs": [
        {
          "output_type": "execute_result",
          "data": {
            "text/plain": [
              "['883000', '16', '0.14', '']"
            ]
          },
          "metadata": {},
          "execution_count": 132
        }
      ]
    },
    {
      "cell_type": "code",
      "source": [
        "float('')"
      ],
      "metadata": {
        "colab": {
          "base_uri": "https://localhost:8080/",
          "height": 147
        },
        "id": "Ayo7GWmrs6bD",
        "outputId": "bbec1dc5-f810-43a7-8dd4-e977a5735471"
      },
      "execution_count": 133,
      "outputs": [
        {
          "output_type": "error",
          "ename": "ValueError",
          "evalue": "could not convert string to float: ''",
          "traceback": [
            "\u001b[0;31m---------------------------------------------------------------------------\u001b[0m",
            "\u001b[0;31mValueError\u001b[0m                                Traceback (most recent call last)",
            "\u001b[0;32m<ipython-input-133-45d756431581>\u001b[0m in \u001b[0;36m<cell line: 0>\u001b[0;34m()\u001b[0m\n\u001b[0;32m----> 1\u001b[0;31m \u001b[0mfloat\u001b[0m\u001b[0;34m(\u001b[0m\u001b[0;34m''\u001b[0m\u001b[0;34m)\u001b[0m\u001b[0;34m\u001b[0m\u001b[0;34m\u001b[0m\u001b[0m\n\u001b[0m",
            "\u001b[0;31mValueError\u001b[0m: could not convert string to float: ''"
          ]
        }
      ]
    },
    {
      "cell_type": "code",
      "execution_count": 134,
      "metadata": {
        "colab": {
          "base_uri": "https://localhost:8080/",
          "height": 256
        },
        "id": "xVGZkYi-ooxV",
        "outputId": "f99db417-fe76-4904-c36e-338019fd49b5"
      },
      "outputs": [
        {
          "output_type": "error",
          "ename": "ValueError",
          "evalue": "could not convert string to float: ''",
          "traceback": [
            "\u001b[0;31m---------------------------------------------------------------------------\u001b[0m",
            "\u001b[0;31mValueError\u001b[0m                                Traceback (most recent call last)",
            "\u001b[0;32m<ipython-input-134-b170e8564609>\u001b[0m in \u001b[0;36m<cell line: 0>\u001b[0;34m()\u001b[0m\n\u001b[0;32m----> 1\u001b[0;31m \u001b[0mparse_values\u001b[0m\u001b[0;34m(\u001b[0m\u001b[0mfile3_lines\u001b[0m\u001b[0;34m[\u001b[0m\u001b[0;36m2\u001b[0m\u001b[0;34m]\u001b[0m\u001b[0;34m)\u001b[0m\u001b[0;34m\u001b[0m\u001b[0;34m\u001b[0m\u001b[0m\n\u001b[0m",
            "\u001b[0;32m<ipython-input-128-8be4024619c8>\u001b[0m in \u001b[0;36mparse_values\u001b[0;34m(data_line)\u001b[0m\n\u001b[1;32m      2\u001b[0m     \u001b[0mvalues\u001b[0m \u001b[0;34m=\u001b[0m \u001b[0;34m[\u001b[0m\u001b[0;34m]\u001b[0m\u001b[0;34m\u001b[0m\u001b[0;34m\u001b[0m\u001b[0m\n\u001b[1;32m      3\u001b[0m     \u001b[0;32mfor\u001b[0m \u001b[0mitem\u001b[0m \u001b[0;32min\u001b[0m \u001b[0mdata_line\u001b[0m\u001b[0;34m.\u001b[0m\u001b[0mstrip\u001b[0m\u001b[0;34m(\u001b[0m\u001b[0;34m)\u001b[0m\u001b[0;34m.\u001b[0m\u001b[0msplit\u001b[0m\u001b[0;34m(\u001b[0m\u001b[0;34m','\u001b[0m\u001b[0;34m)\u001b[0m\u001b[0;34m:\u001b[0m\u001b[0;34m\u001b[0m\u001b[0;34m\u001b[0m\u001b[0m\n\u001b[0;32m----> 4\u001b[0;31m         \u001b[0mvalues\u001b[0m\u001b[0;34m.\u001b[0m\u001b[0mappend\u001b[0m\u001b[0;34m(\u001b[0m\u001b[0mfloat\u001b[0m\u001b[0;34m(\u001b[0m\u001b[0mitem\u001b[0m\u001b[0;34m)\u001b[0m\u001b[0;34m)\u001b[0m\u001b[0;34m\u001b[0m\u001b[0;34m\u001b[0m\u001b[0m\n\u001b[0m\u001b[1;32m      5\u001b[0m     \u001b[0;32mreturn\u001b[0m \u001b[0mvalues\u001b[0m\u001b[0;34m\u001b[0m\u001b[0;34m\u001b[0m\u001b[0m\n",
            "\u001b[0;31mValueError\u001b[0m: could not convert string to float: ''"
          ]
        }
      ],
      "source": [
        "parse_values(file3_lines[2])"
      ]
    },
    {
      "cell_type": "markdown",
      "metadata": {
        "id": "suy8z4DaooxW"
      },
      "source": [
        "The code above leads to a `ValueError` because the empty string `''` cannot be converted to a float. We can enhance the `parse_values` function to handle this *edge case*. We will also handle the case where the value is not a float."
      ]
    },
    {
      "cell_type": "code",
      "execution_count": 135,
      "metadata": {
        "id": "hlBDuyxFooxW"
      },
      "outputs": [],
      "source": [
        "def parse_values(data_line):\n",
        "    values = []\n",
        "    for item in data_line.strip().split(','):\n",
        "        if item == '':\n",
        "            values.append(0.0)\n",
        "        else:\n",
        "            try:\n",
        "                values.append(float(item))\n",
        "            except ValueError:\n",
        "                values.append(item)\n",
        "    return values"
      ]
    },
    {
      "cell_type": "code",
      "execution_count": 136,
      "metadata": {
        "colab": {
          "base_uri": "https://localhost:8080/",
          "height": 36
        },
        "id": "nJYxQPnZooxW",
        "outputId": "e138fd0c-48c5-43e5-972d-bd1770da7a97"
      },
      "outputs": [
        {
          "output_type": "execute_result",
          "data": {
            "text/plain": [
              "'883000,16,0.14,\\n'"
            ],
            "application/vnd.google.colaboratory.intrinsic+json": {
              "type": "string"
            }
          },
          "metadata": {},
          "execution_count": 136
        }
      ],
      "source": [
        "file3_lines[2]"
      ]
    },
    {
      "cell_type": "code",
      "execution_count": 137,
      "metadata": {
        "colab": {
          "base_uri": "https://localhost:8080/"
        },
        "id": "GgtzWg56ooxX",
        "outputId": "e494416b-e1e5-43e1-9560-74e3458ed6a8"
      },
      "outputs": [
        {
          "output_type": "execute_result",
          "data": {
            "text/plain": [
              "[883000.0, 16.0, 0.14, 0.0]"
            ]
          },
          "metadata": {},
          "execution_count": 137
        }
      ],
      "source": [
        "parse_values(file3_lines[2])"
      ]
    },
    {
      "cell_type": "markdown",
      "metadata": {
        "id": "GStO4PzfooxX"
      },
      "source": [
        "Next, let's define a function `create_item_dict` that takes a list of values and a list of headers as inputs and returns a dictionary with the values associated with their respective headers as keys.\n"
      ]
    },
    {
      "cell_type": "code",
      "execution_count": 138,
      "metadata": {
        "id": "giizzAX0ooxX"
      },
      "outputs": [],
      "source": [
        "def create_item_dict(values, headers):\n",
        "    result = {}\n",
        "    for value, header in zip(values, headers):\n",
        "        result[header] = value\n",
        "    return result"
      ]
    },
    {
      "cell_type": "markdown",
      "metadata": {
        "id": "QEHiZMO_ooxX"
      },
      "source": [
        "Can you figure out what the Python built-in function `zip` does? Try out an example, or [read the documentation](https://docs.python.org/3.3/library/functions.html#zip)."
      ]
    },
    {
      "cell_type": "code",
      "execution_count": 139,
      "metadata": {
        "colab": {
          "base_uri": "https://localhost:8080/"
        },
        "id": "66OYtcTVooxX",
        "outputId": "d16ba8d4-3a14-4bb0-bf58-405a9473e5d1"
      },
      "outputs": [
        {
          "output_type": "stream",
          "name": "stdout",
          "text": [
            "(1, 'a')\n",
            "(2, 'b')\n",
            "(3, 'c')\n"
          ]
        }
      ],
      "source": [
        "for item in zip([1,2,3], ['a', 'b', 'c']):\n",
        "    print(item)"
      ]
    },
    {
      "cell_type": "markdown",
      "metadata": {
        "id": "vwL8sE9XooxY"
      },
      "source": [
        "Let's try out `create_item_dict` with a couple of examples."
      ]
    },
    {
      "cell_type": "code",
      "execution_count": 140,
      "metadata": {
        "colab": {
          "base_uri": "https://localhost:8080/",
          "height": 36
        },
        "id": "GoH3BurzooxY",
        "outputId": "be96a9f6-11e2-440f-af3a-2eca0b7ce71b"
      },
      "outputs": [
        {
          "output_type": "execute_result",
          "data": {
            "text/plain": [
              "'45230,48,0.07,4300\\n'"
            ],
            "application/vnd.google.colaboratory.intrinsic+json": {
              "type": "string"
            }
          },
          "metadata": {},
          "execution_count": 140
        }
      ],
      "source": [
        "file3_lines[1]"
      ]
    },
    {
      "cell_type": "code",
      "execution_count": 141,
      "metadata": {
        "colab": {
          "base_uri": "https://localhost:8080/"
        },
        "id": "HKeaWGqBooxY",
        "outputId": "58549a70-bb34-411d-a8da-e1c2c8d6e310"
      },
      "outputs": [
        {
          "output_type": "execute_result",
          "data": {
            "text/plain": [
              "{'amount': 45230.0, 'duration': 48.0, 'rate': 0.07, 'down_payment': 4300.0}"
            ]
          },
          "metadata": {},
          "execution_count": 141
        }
      ],
      "source": [
        "values1 = parse_values(file3_lines[1])\n",
        "create_item_dict(values1, headers)"
      ]
    },
    {
      "cell_type": "code",
      "execution_count": 142,
      "metadata": {
        "colab": {
          "base_uri": "https://localhost:8080/",
          "height": 36
        },
        "id": "XsMUlcxoooxY",
        "outputId": "cbc22d99-0b53-4097-cadb-e084ba5dc56a"
      },
      "outputs": [
        {
          "output_type": "execute_result",
          "data": {
            "text/plain": [
              "'883000,16,0.14,\\n'"
            ],
            "application/vnd.google.colaboratory.intrinsic+json": {
              "type": "string"
            }
          },
          "metadata": {},
          "execution_count": 142
        }
      ],
      "source": [
        "file3_lines[2]"
      ]
    },
    {
      "cell_type": "code",
      "execution_count": 143,
      "metadata": {
        "colab": {
          "base_uri": "https://localhost:8080/"
        },
        "id": "upvs61AjooxY",
        "outputId": "3681164f-39d6-41ee-e614-9d146d6b9615"
      },
      "outputs": [
        {
          "output_type": "execute_result",
          "data": {
            "text/plain": [
              "{'amount': 883000.0, 'duration': 16.0, 'rate': 0.14, 'down_payment': 0.0}"
            ]
          },
          "metadata": {},
          "execution_count": 143
        }
      ],
      "source": [
        "values2 = parse_values(file3_lines[2])\n",
        "create_item_dict(values2, headers)"
      ]
    },
    {
      "cell_type": "markdown",
      "metadata": {
        "id": "laGkwn_rooxY"
      },
      "source": [
        "As expected, the values & header are combined to create a dictionary with the appropriate key-value pairs.\n",
        "\n",
        "We are now ready to put it all together and define the `read_csv` function."
      ]
    },
    {
      "cell_type": "code",
      "execution_count": 144,
      "metadata": {
        "id": "WAZTj-Y1ooxZ"
      },
      "outputs": [],
      "source": [
        "def read_csv(path):\n",
        "    result = []\n",
        "    # Open the file in read mode\n",
        "    with open(path, 'r') as f:\n",
        "        # Get a list of lines\n",
        "        lines = f.readlines()\n",
        "        # Parse the header\n",
        "        headers = parse_headers(lines[0])\n",
        "        # Loop over the remaining lines\n",
        "        for data_line in lines[1:]:\n",
        "            # Parse the values\n",
        "            values = parse_values(data_line)\n",
        "            # Create a dictionary using values & headers\n",
        "            item_dict = create_item_dict(values, headers)\n",
        "            # Add the dictionary to the result\n",
        "            result.append(item_dict)\n",
        "    return result"
      ]
    },
    {
      "cell_type": "markdown",
      "metadata": {
        "id": "BGFPYWnqooxZ"
      },
      "source": [
        "Let's try it out!"
      ]
    },
    {
      "cell_type": "code",
      "execution_count": 145,
      "metadata": {
        "colab": {
          "base_uri": "https://localhost:8080/"
        },
        "id": "BxxpPdjEooxZ",
        "outputId": "6f18fb82-0985-416e-b863-d92d7f9180d5"
      },
      "outputs": [
        {
          "output_type": "stream",
          "name": "stdout",
          "text": [
            "amount,duration,rate,down_payment\n",
            "828400,120,0.11,100000\n",
            "4633400,240,0.06,\n",
            "42900,90,0.08,8900\n",
            "983000,16,0.14,\n",
            "15230,48,0.07,4300\n"
          ]
        }
      ],
      "source": [
        "with open('./data/loans2.txt') as file2:\n",
        "    print(file2.read())"
      ]
    },
    {
      "cell_type": "code",
      "execution_count": 146,
      "metadata": {
        "colab": {
          "base_uri": "https://localhost:8080/"
        },
        "id": "PyJTjYexooxZ",
        "outputId": "468bd966-2bd9-4c52-f82f-9758f9744235"
      },
      "outputs": [
        {
          "output_type": "execute_result",
          "data": {
            "text/plain": [
              "[{'amount': 828400.0,\n",
              "  'duration': 120.0,\n",
              "  'rate': 0.11,\n",
              "  'down_payment': 100000.0},\n",
              " {'amount': 4633400.0, 'duration': 240.0, 'rate': 0.06, 'down_payment': 0.0},\n",
              " {'amount': 42900.0, 'duration': 90.0, 'rate': 0.08, 'down_payment': 8900.0},\n",
              " {'amount': 983000.0, 'duration': 16.0, 'rate': 0.14, 'down_payment': 0.0},\n",
              " {'amount': 15230.0, 'duration': 48.0, 'rate': 0.07, 'down_payment': 4300.0}]"
            ]
          },
          "metadata": {},
          "execution_count": 146
        }
      ],
      "source": [
        "read_csv('./data/loans2.txt')"
      ]
    },
    {
      "cell_type": "markdown",
      "metadata": {
        "id": "-KbLkKPGooxZ"
      },
      "source": [
        "The file is read and converted to a list of dictionaries, as expected. The `read_csv` file is generic enough that it can parse any file in the CSV format, with any number of rows or columns. Here's the full code for `read_csv` along with the helper functions:"
      ]
    },
    {
      "cell_type": "code",
      "execution_count": 147,
      "metadata": {
        "id": "FafqGuCQooxZ"
      },
      "outputs": [],
      "source": [
        "def parse_headers(header_line):\n",
        "    return header_line.strip().split(',')\n",
        "\n",
        "def parse_values(data_line):\n",
        "    values = []\n",
        "    for item in data_line.strip().split(','):\n",
        "        if item == '':\n",
        "            values.append(0.0)\n",
        "        else:\n",
        "            try:\n",
        "                values.append(float(item))\n",
        "            except ValueError:\n",
        "                values.append(item)\n",
        "    return values\n",
        "\n",
        "def create_item_dict(values, headers):\n",
        "    result = {}\n",
        "    for value, header in zip(values, headers):\n",
        "        result[header] = value\n",
        "    return result\n",
        "\n",
        "def read_csv(path):\n",
        "    result = []\n",
        "    # Open the file in read mode\n",
        "    with open(path, 'r') as f:\n",
        "        # Get a list of lines\n",
        "        lines = f.readlines()\n",
        "        # Parse the header\n",
        "        headers = parse_headers(lines[0])\n",
        "        # Loop over the remaining lines\n",
        "        for data_line in lines[1:]:\n",
        "            # Parse the values\n",
        "            values = parse_values(data_line)\n",
        "            # Create a dictionary using values & headers\n",
        "            item_dict = create_item_dict(values, headers)\n",
        "            # Add the dictionary to the result\n",
        "            result.append(item_dict)\n",
        "    return result"
      ]
    },
    {
      "cell_type": "markdown",
      "metadata": {
        "id": "9C8j_Unbooxa"
      },
      "source": [
        "Try to create small, generic, and reusable functions whenever possible. They will likely be useful beyond just the problem at hand and save you significant effort in the future.\n",
        "\n",
        "In the [previous tutorial](https://jovian.ml/aakashns/python-functions-and-scope), we defined a function to calculate the equal monthly installments for a loan. Here's what it looked like:"
      ]
    },
    {
      "cell_type": "code",
      "execution_count": 148,
      "metadata": {
        "id": "N8JrOhAqooxa"
      },
      "outputs": [],
      "source": [
        "import math\n",
        "\n",
        "def loan_emi(amount, duration, rate, down_payment=0):\n",
        "    \"\"\"Calculates the equal montly installment (EMI) for a loan.\n",
        "\n",
        "    Arguments:\n",
        "        amount - Total amount to be spent (loan + down payment)\n",
        "        duration - Duration of the loan (in months)\n",
        "        rate - Rate of interest (monthly)\n",
        "        down_payment (optional) - Optional intial payment (deducted from amount)\n",
        "    \"\"\"\n",
        "    loan_amount = amount - down_payment\n",
        "    try:\n",
        "        emi = loan_amount * rate * ((1+rate)**duration) / (((1+rate)**duration)-1)\n",
        "    except ZeroDivisionError:\n",
        "        emi = loan_amount / duration\n",
        "    emi = math.ceil(emi)\n",
        "    return emi"
      ]
    },
    {
      "cell_type": "markdown",
      "metadata": {
        "id": "_G4F75Xgooxa"
      },
      "source": [
        "We can use this function to calculate EMIs for all the loans in a file."
      ]
    },
    {
      "cell_type": "code",
      "execution_count": 149,
      "metadata": {
        "id": "jyMVoSS7ooxb"
      },
      "outputs": [],
      "source": [
        "loans2 = read_csv('./data/loans2.txt')"
      ]
    },
    {
      "cell_type": "code",
      "execution_count": 150,
      "metadata": {
        "colab": {
          "base_uri": "https://localhost:8080/"
        },
        "id": "uZFcLDIpooxb",
        "outputId": "33949d24-a4de-4fa0-d1fa-4ee7bd35653b"
      },
      "outputs": [
        {
          "output_type": "execute_result",
          "data": {
            "text/plain": [
              "[{'amount': 828400.0,\n",
              "  'duration': 120.0,\n",
              "  'rate': 0.11,\n",
              "  'down_payment': 100000.0},\n",
              " {'amount': 4633400.0, 'duration': 240.0, 'rate': 0.06, 'down_payment': 0.0},\n",
              " {'amount': 42900.0, 'duration': 90.0, 'rate': 0.08, 'down_payment': 8900.0},\n",
              " {'amount': 983000.0, 'duration': 16.0, 'rate': 0.14, 'down_payment': 0.0},\n",
              " {'amount': 15230.0, 'duration': 48.0, 'rate': 0.07, 'down_payment': 4300.0}]"
            ]
          },
          "metadata": {},
          "execution_count": 150
        }
      ],
      "source": [
        "loans2"
      ]
    },
    {
      "cell_type": "code",
      "execution_count": 151,
      "metadata": {
        "id": "Tq4k1cgKooxb"
      },
      "outputs": [],
      "source": [
        "for loan in loans2:\n",
        "    loan['emi'] = loan_emi(loan['amount'],\n",
        "                           loan['duration'],\n",
        "                           loan['rate']/12, # the CSV contains yearly rates\n",
        "                           loan['down_payment'])"
      ]
    },
    {
      "cell_type": "code",
      "execution_count": 152,
      "metadata": {
        "colab": {
          "base_uri": "https://localhost:8080/"
        },
        "id": "_WMGI_LRooxb",
        "outputId": "6755bb0b-73e4-437c-e820-a4a22ba5843b"
      },
      "outputs": [
        {
          "output_type": "execute_result",
          "data": {
            "text/plain": [
              "[{'amount': 828400.0,\n",
              "  'duration': 120.0,\n",
              "  'rate': 0.11,\n",
              "  'down_payment': 100000.0,\n",
              "  'emi': 10034},\n",
              " {'amount': 4633400.0,\n",
              "  'duration': 240.0,\n",
              "  'rate': 0.06,\n",
              "  'down_payment': 0.0,\n",
              "  'emi': 33196},\n",
              " {'amount': 42900.0,\n",
              "  'duration': 90.0,\n",
              "  'rate': 0.08,\n",
              "  'down_payment': 8900.0,\n",
              "  'emi': 504},\n",
              " {'amount': 983000.0,\n",
              "  'duration': 16.0,\n",
              "  'rate': 0.14,\n",
              "  'down_payment': 0.0,\n",
              "  'emi': 67707},\n",
              " {'amount': 15230.0,\n",
              "  'duration': 48.0,\n",
              "  'rate': 0.07,\n",
              "  'down_payment': 4300.0,\n",
              "  'emi': 262}]"
            ]
          },
          "metadata": {},
          "execution_count": 152
        }
      ],
      "source": [
        "loans2"
      ]
    },
    {
      "cell_type": "markdown",
      "metadata": {
        "id": "j4vR2e7Pooxb"
      },
      "source": [
        "You can see that each loan now has a new key `emi`, which provides the EMI for the loan. We can extract this logic into a function so that we can use it for other files too."
      ]
    },
    {
      "cell_type": "code",
      "execution_count": 153,
      "metadata": {
        "id": "YU9gFx7hooxb"
      },
      "outputs": [],
      "source": [
        "def compute_emis(loans):\n",
        "    for loan in loans:\n",
        "        loan['emi'] = loan_emi(\n",
        "            loan['amount'],\n",
        "            loan['duration'],\n",
        "            loan['rate']/12, # the CSV contains yearly rates\n",
        "            loan['down_payment'])"
      ]
    },
    {
      "cell_type": "markdown",
      "metadata": {
        "id": "_Gw9qLg8ooxc"
      },
      "source": [
        "## Writing to files\n",
        "\n",
        "Now that we have performed some processing on the data, it would be good to write the results back to a CSV file. We can create/open a file in `w` mode using `open` and write to it using the `.write` method. The string `format` method will come in handy here."
      ]
    },
    {
      "cell_type": "code",
      "execution_count": 154,
      "metadata": {
        "id": "WYS2Q8yHooxc"
      },
      "outputs": [],
      "source": [
        "loans2 = read_csv('./data/loans2.txt')"
      ]
    },
    {
      "cell_type": "code",
      "execution_count": 155,
      "metadata": {
        "id": "Dg9QENu1ooxc"
      },
      "outputs": [],
      "source": [
        "compute_emis(loans2)"
      ]
    },
    {
      "cell_type": "code",
      "execution_count": 156,
      "metadata": {
        "colab": {
          "base_uri": "https://localhost:8080/"
        },
        "id": "Er4F2MgCooxc",
        "outputId": "36d9720a-f1e8-4115-81b2-4a4172c45d50"
      },
      "outputs": [
        {
          "output_type": "execute_result",
          "data": {
            "text/plain": [
              "[{'amount': 828400.0,\n",
              "  'duration': 120.0,\n",
              "  'rate': 0.11,\n",
              "  'down_payment': 100000.0,\n",
              "  'emi': 10034},\n",
              " {'amount': 4633400.0,\n",
              "  'duration': 240.0,\n",
              "  'rate': 0.06,\n",
              "  'down_payment': 0.0,\n",
              "  'emi': 33196},\n",
              " {'amount': 42900.0,\n",
              "  'duration': 90.0,\n",
              "  'rate': 0.08,\n",
              "  'down_payment': 8900.0,\n",
              "  'emi': 504},\n",
              " {'amount': 983000.0,\n",
              "  'duration': 16.0,\n",
              "  'rate': 0.14,\n",
              "  'down_payment': 0.0,\n",
              "  'emi': 67707},\n",
              " {'amount': 15230.0,\n",
              "  'duration': 48.0,\n",
              "  'rate': 0.07,\n",
              "  'down_payment': 4300.0,\n",
              "  'emi': 262}]"
            ]
          },
          "metadata": {},
          "execution_count": 156
        }
      ],
      "source": [
        "loans2"
      ]
    },
    {
      "cell_type": "code",
      "execution_count": 157,
      "metadata": {
        "id": "mXDGEfmJooxc"
      },
      "outputs": [],
      "source": [
        "with open('./data/emis2.txt', 'w') as f:\n",
        "    for loan in loans2:\n",
        "        f.write('{},{},{},{},{}\\n'.format(\n",
        "            loan['amount'],\n",
        "            loan['duration'],\n",
        "            loan['rate'],\n",
        "            loan['down_payment'],\n",
        "            loan['emi']))"
      ]
    },
    {
      "cell_type": "markdown",
      "metadata": {
        "id": "g0vy4kayooxc"
      },
      "source": [
        "Let's verify that the file was created and written to as expected."
      ]
    },
    {
      "cell_type": "code",
      "execution_count": 158,
      "metadata": {
        "colab": {
          "base_uri": "https://localhost:8080/"
        },
        "id": "qq-kxcRGooxd",
        "outputId": "9d7cfc92-19bb-4472-e6a9-d0098eff997e"
      },
      "outputs": [
        {
          "output_type": "execute_result",
          "data": {
            "text/plain": [
              "['loans3.txt', 'loans1.txt', 'loans2.txt', 'emis2.txt']"
            ]
          },
          "metadata": {},
          "execution_count": 158
        }
      ],
      "source": [
        "os.listdir('data')"
      ]
    },
    {
      "cell_type": "code",
      "execution_count": 159,
      "metadata": {
        "colab": {
          "base_uri": "https://localhost:8080/"
        },
        "id": "KdU7ReKtooxg",
        "outputId": "dafe95e4-e67e-4e91-eb68-ea6178f08e77"
      },
      "outputs": [
        {
          "output_type": "stream",
          "name": "stdout",
          "text": [
            "828400.0,120.0,0.11,100000.0,10034\n",
            "4633400.0,240.0,0.06,0.0,33196\n",
            "42900.0,90.0,0.08,8900.0,504\n",
            "983000.0,16.0,0.14,0.0,67707\n",
            "15230.0,48.0,0.07,4300.0,262\n",
            "\n"
          ]
        }
      ],
      "source": [
        "with open('./data/emis2.txt', 'r') as f:\n",
        "    print(f.read())"
      ]
    },
    {
      "cell_type": "markdown",
      "metadata": {
        "id": "1UC7eiUBooxg"
      },
      "source": [
        "Great, looks like the loan details (along with the computed EMIs) were written into the file.\n",
        "\n",
        "Let's define a generic function `write_csv` which takes a list of dictionaries and writes it to a file in CSV format. We will also include the column headers in the first line."
      ]
    },
    {
      "cell_type": "code",
      "execution_count": 160,
      "metadata": {
        "id": "NIeEa4Hdooxg"
      },
      "outputs": [],
      "source": [
        "def write_csv(items, path):\n",
        "    # Open the file in write mode\n",
        "    with open(path, 'w') as f:\n",
        "        # Return if there's nothing to write\n",
        "        if len(items) == 0:\n",
        "            return\n",
        "\n",
        "        # Write the headers in the first line\n",
        "        headers = list(items[0].keys())\n",
        "        f.write(','.join(headers) + '\\n')\n",
        "\n",
        "        # Write one item per line\n",
        "        for item in items:\n",
        "            values = []\n",
        "            for header in headers:\n",
        "                values.append(str(item.get(header, \"\")))\n",
        "            f.write(','.join(values) + \"\\n\")"
      ]
    },
    {
      "cell_type": "markdown",
      "metadata": {
        "id": "kvcoDbHyooxg"
      },
      "source": [
        "Do you understand how the function works? If now, try executing each statement by line by line or a different cell to figure out how it works.\n",
        "\n",
        "Let's try it out!"
      ]
    },
    {
      "cell_type": "code",
      "execution_count": 161,
      "metadata": {
        "id": "DgSgoBU_ooxg"
      },
      "outputs": [],
      "source": [
        "loans3 = read_csv('./data/loans3.txt')"
      ]
    },
    {
      "cell_type": "code",
      "execution_count": 162,
      "metadata": {
        "id": "oGKCOxHaooxg"
      },
      "outputs": [],
      "source": [
        "compute_emis(loans3)"
      ]
    },
    {
      "cell_type": "code",
      "execution_count": 163,
      "metadata": {
        "id": "-xEMQyVZooxg"
      },
      "outputs": [],
      "source": [
        "write_csv(loans3, './data/emis3.txt')"
      ]
    },
    {
      "cell_type": "code",
      "execution_count": 164,
      "metadata": {
        "colab": {
          "base_uri": "https://localhost:8080/"
        },
        "id": "LtzUPrW0ooxh",
        "outputId": "a014b026-f5e6-459d-a9fa-c7127d7f0a5a"
      },
      "outputs": [
        {
          "output_type": "stream",
          "name": "stdout",
          "text": [
            "amount,duration,rate,down_payment,emi\n",
            "45230.0,48.0,0.07,4300.0,981\n",
            "883000.0,16.0,0.14,0.0,60819\n",
            "100000.0,12.0,0.1,0.0,8792\n",
            "728400.0,120.0,0.12,100000.0,9016\n",
            "3637400.0,240.0,0.06,0.0,26060\n",
            "82900.0,90.0,0.07,8900.0,1060\n",
            "316000.0,16.0,0.13,0.0,21618\n",
            "15230.0,48.0,0.08,4300.0,267\n",
            "991360.0,99.0,0.08,0.0,13712\n",
            "323000.0,27.0,0.09,4720010000.0,-193751447\n",
            "528400.0,120.0,0.11,100000.0,5902\n",
            "8633400.0,240.0,0.06,0.0,61853\n",
            "12900.0,90.0,0.08,8900.0,60\n",
            "\n"
          ]
        }
      ],
      "source": [
        "with open('./data/emis3.txt', 'r') as f:\n",
        "    print(f.read())"
      ]
    },
    {
      "cell_type": "markdown",
      "metadata": {
        "id": "ApHTOLcaooxh"
      },
      "source": [
        "With just four lines of code, we can now read each downloaded file, calculate the EMIs, and write the results back to new files:"
      ]
    },
    {
      "cell_type": "code",
      "execution_count": 165,
      "metadata": {
        "id": "8_S-TF7Tooxh"
      },
      "outputs": [],
      "source": [
        "for i in range(1,4):\n",
        "    loans = read_csv('./data/loans{}.txt'.format(i))\n",
        "    compute_emis(loans)\n",
        "    write_csv(loans, './data/emis{}.txt'.format(i))"
      ]
    },
    {
      "cell_type": "code",
      "execution_count": 166,
      "metadata": {
        "colab": {
          "base_uri": "https://localhost:8080/"
        },
        "id": "4QX17SlJooxh",
        "outputId": "0b61e4c3-3329-442c-a6e8-fe62dcb7d910"
      },
      "outputs": [
        {
          "output_type": "execute_result",
          "data": {
            "text/plain": [
              "['loans3.txt',\n",
              " 'loans1.txt',\n",
              " 'loans2.txt',\n",
              " 'emis2.txt',\n",
              " 'emis3.txt',\n",
              " 'emis1.txt']"
            ]
          },
          "metadata": {},
          "execution_count": 166
        }
      ],
      "source": [
        "os.listdir('./data')"
      ]
    },
    {
      "cell_type": "markdown",
      "metadata": {
        "id": "vxVvA7mXooxh"
      },
      "source": [
        "Isn't that wonderful? Once all the functions are defined, we can calculate EMIs for thousands or even millions of loans across many files in seconds with just a few lines of code. Now we're starting to see the real power of using a programming language like Python for processing data!"
      ]
    },
    {
      "cell_type": "markdown",
      "metadata": {
        "id": "XVjbopmaooxh"
      },
      "source": [
        "## Using Pandas to Read and Write CSVs\n",
        "\n",
        "There are some limitations to the `read_csv` and `write_csv` functions we've defined above:\n",
        "\n",
        "* The `read_csv` function fails to create a proper dictionary if any of the values in the CSV files contains commas\n",
        "* The `write_csv` function fails to create a proper CSV if any of the values to be written contains commas\n",
        "\n",
        "When a value in a CSV file contains a comma (`,`), the value is generally placed within double quotes. Double quotes (`\"`) in values are converted into two double quotes (`\"\"`). Here's an example:\n",
        "\n",
        "```\n",
        "title,description\n",
        "Fast & Furious,\"A movie, a race, a franchise\"\n",
        "The Dark Knight,\"Gotham, the \"\"Batman\"\", and the Joker\"\n",
        "Memento,A guy forgets everything every 15 minutes\n",
        "\n",
        "```\n",
        "\n",
        "Let's try it out."
      ]
    },
    {
      "cell_type": "code",
      "execution_count": 167,
      "metadata": {
        "id": "bw335dhcooxh"
      },
      "outputs": [],
      "source": [
        "movies_url = \"https://gist.githubusercontent.com/aakashns/afee0a407d44bbc02321993548021af9/raw/6d7473f0ac4c54aca65fc4b06ed831b8a4840190/movies.csv\""
      ]
    },
    {
      "cell_type": "code",
      "execution_count": 168,
      "metadata": {
        "colab": {
          "base_uri": "https://localhost:8080/"
        },
        "id": "3wEd8H6Oooxh",
        "outputId": "7da7254d-fbf5-4386-800d-4b186408a5a7"
      },
      "outputs": [
        {
          "output_type": "execute_result",
          "data": {
            "text/plain": [
              "('data/movies.csv', <http.client.HTTPMessage at 0x7ee5cda10210>)"
            ]
          },
          "metadata": {},
          "execution_count": 168
        }
      ],
      "source": [
        "urlretrieve(movies_url, 'data/movies.csv')"
      ]
    },
    {
      "cell_type": "code",
      "execution_count": 169,
      "metadata": {
        "id": "1M6fiKdSooxi"
      },
      "outputs": [],
      "source": [
        "movies = read_csv('data/movies.csv')"
      ]
    },
    {
      "cell_type": "code",
      "execution_count": 170,
      "metadata": {
        "colab": {
          "base_uri": "https://localhost:8080/"
        },
        "id": "Xt9L97YIooxi",
        "outputId": "f28c12bd-6ea1-4d12-9632-2d324ca07a11"
      },
      "outputs": [
        {
          "output_type": "execute_result",
          "data": {
            "text/plain": [
              "[{'title': 'Fast & Furious', 'description': '\"A movie'},\n",
              " {'title': 'The Dark Knight', 'description': '\"Gotham'},\n",
              " {'title': 'Memento',\n",
              "  'description': 'A guy forgets everything every 15 minutes'}]"
            ]
          },
          "metadata": {},
          "execution_count": 170
        }
      ],
      "source": [
        "movies"
      ]
    },
    {
      "cell_type": "markdown",
      "metadata": {
        "id": "t8SgnwkMooxi"
      },
      "source": [
        "As you can seen above, the movie descriptions weren't parsed properly.\n",
        "\n",
        "To read this CSV properly, we can use the `pandas` library."
      ]
    },
    {
      "cell_type": "code",
      "execution_count": 171,
      "metadata": {
        "id": "sMSu-HyRooxi"
      },
      "outputs": [],
      "source": [
        "import pandas as pd"
      ]
    },
    {
      "cell_type": "markdown",
      "metadata": {
        "id": "VAZRzyRtooxi"
      },
      "source": [
        "The `pd.read_csv` function can be used to read the CSV file into a pandas data frame: a spreadsheet-like object for analyzing and processing data. We'll learn more about data frames in a future lesson."
      ]
    },
    {
      "cell_type": "code",
      "execution_count": 172,
      "metadata": {
        "id": "GuIPsvvEooxj"
      },
      "outputs": [],
      "source": [
        "movies_dataframe = pd.read_csv('data/movies.csv')"
      ]
    },
    {
      "cell_type": "code",
      "execution_count": 173,
      "metadata": {
        "colab": {
          "base_uri": "https://localhost:8080/",
          "height": 143
        },
        "id": "e5knpkT-ooxj",
        "outputId": "2e24b460-3833-427b-ef9c-c4ca0f16e1f9"
      },
      "outputs": [
        {
          "output_type": "execute_result",
          "data": {
            "text/plain": [
              "             title                                description\n",
              "0   Fast & Furious               A movie, a race, a franchise\n",
              "1  The Dark Knight        Gotham, the \"Batman\", and the Joker\n",
              "2          Memento  A guy forgets everything every 15 minutes"
            ],
            "text/html": [
              "\n",
              "  <div id=\"df-75ee7177-3ab1-4deb-9ac2-d2ae1f4ad03b\" class=\"colab-df-container\">\n",
              "    <div>\n",
              "<style scoped>\n",
              "    .dataframe tbody tr th:only-of-type {\n",
              "        vertical-align: middle;\n",
              "    }\n",
              "\n",
              "    .dataframe tbody tr th {\n",
              "        vertical-align: top;\n",
              "    }\n",
              "\n",
              "    .dataframe thead th {\n",
              "        text-align: right;\n",
              "    }\n",
              "</style>\n",
              "<table border=\"1\" class=\"dataframe\">\n",
              "  <thead>\n",
              "    <tr style=\"text-align: right;\">\n",
              "      <th></th>\n",
              "      <th>title</th>\n",
              "      <th>description</th>\n",
              "    </tr>\n",
              "  </thead>\n",
              "  <tbody>\n",
              "    <tr>\n",
              "      <th>0</th>\n",
              "      <td>Fast &amp; Furious</td>\n",
              "      <td>A movie, a race, a franchise</td>\n",
              "    </tr>\n",
              "    <tr>\n",
              "      <th>1</th>\n",
              "      <td>The Dark Knight</td>\n",
              "      <td>Gotham, the \"Batman\", and the Joker</td>\n",
              "    </tr>\n",
              "    <tr>\n",
              "      <th>2</th>\n",
              "      <td>Memento</td>\n",
              "      <td>A guy forgets everything every 15 minutes</td>\n",
              "    </tr>\n",
              "  </tbody>\n",
              "</table>\n",
              "</div>\n",
              "    <div class=\"colab-df-buttons\">\n",
              "\n",
              "  <div class=\"colab-df-container\">\n",
              "    <button class=\"colab-df-convert\" onclick=\"convertToInteractive('df-75ee7177-3ab1-4deb-9ac2-d2ae1f4ad03b')\"\n",
              "            title=\"Convert this dataframe to an interactive table.\"\n",
              "            style=\"display:none;\">\n",
              "\n",
              "  <svg xmlns=\"http://www.w3.org/2000/svg\" height=\"24px\" viewBox=\"0 -960 960 960\">\n",
              "    <path d=\"M120-120v-720h720v720H120Zm60-500h600v-160H180v160Zm220 220h160v-160H400v160Zm0 220h160v-160H400v160ZM180-400h160v-160H180v160Zm440 0h160v-160H620v160ZM180-180h160v-160H180v160Zm440 0h160v-160H620v160Z\"/>\n",
              "  </svg>\n",
              "    </button>\n",
              "\n",
              "  <style>\n",
              "    .colab-df-container {\n",
              "      display:flex;\n",
              "      gap: 12px;\n",
              "    }\n",
              "\n",
              "    .colab-df-convert {\n",
              "      background-color: #E8F0FE;\n",
              "      border: none;\n",
              "      border-radius: 50%;\n",
              "      cursor: pointer;\n",
              "      display: none;\n",
              "      fill: #1967D2;\n",
              "      height: 32px;\n",
              "      padding: 0 0 0 0;\n",
              "      width: 32px;\n",
              "    }\n",
              "\n",
              "    .colab-df-convert:hover {\n",
              "      background-color: #E2EBFA;\n",
              "      box-shadow: 0px 1px 2px rgba(60, 64, 67, 0.3), 0px 1px 3px 1px rgba(60, 64, 67, 0.15);\n",
              "      fill: #174EA6;\n",
              "    }\n",
              "\n",
              "    .colab-df-buttons div {\n",
              "      margin-bottom: 4px;\n",
              "    }\n",
              "\n",
              "    [theme=dark] .colab-df-convert {\n",
              "      background-color: #3B4455;\n",
              "      fill: #D2E3FC;\n",
              "    }\n",
              "\n",
              "    [theme=dark] .colab-df-convert:hover {\n",
              "      background-color: #434B5C;\n",
              "      box-shadow: 0px 1px 3px 1px rgba(0, 0, 0, 0.15);\n",
              "      filter: drop-shadow(0px 1px 2px rgba(0, 0, 0, 0.3));\n",
              "      fill: #FFFFFF;\n",
              "    }\n",
              "  </style>\n",
              "\n",
              "    <script>\n",
              "      const buttonEl =\n",
              "        document.querySelector('#df-75ee7177-3ab1-4deb-9ac2-d2ae1f4ad03b button.colab-df-convert');\n",
              "      buttonEl.style.display =\n",
              "        google.colab.kernel.accessAllowed ? 'block' : 'none';\n",
              "\n",
              "      async function convertToInteractive(key) {\n",
              "        const element = document.querySelector('#df-75ee7177-3ab1-4deb-9ac2-d2ae1f4ad03b');\n",
              "        const dataTable =\n",
              "          await google.colab.kernel.invokeFunction('convertToInteractive',\n",
              "                                                    [key], {});\n",
              "        if (!dataTable) return;\n",
              "\n",
              "        const docLinkHtml = 'Like what you see? Visit the ' +\n",
              "          '<a target=\"_blank\" href=https://colab.research.google.com/notebooks/data_table.ipynb>data table notebook</a>'\n",
              "          + ' to learn more about interactive tables.';\n",
              "        element.innerHTML = '';\n",
              "        dataTable['output_type'] = 'display_data';\n",
              "        await google.colab.output.renderOutput(dataTable, element);\n",
              "        const docLink = document.createElement('div');\n",
              "        docLink.innerHTML = docLinkHtml;\n",
              "        element.appendChild(docLink);\n",
              "      }\n",
              "    </script>\n",
              "  </div>\n",
              "\n",
              "\n",
              "<div id=\"df-e93e1d5f-b913-4f9f-bf7f-197e673eb14d\">\n",
              "  <button class=\"colab-df-quickchart\" onclick=\"quickchart('df-e93e1d5f-b913-4f9f-bf7f-197e673eb14d')\"\n",
              "            title=\"Suggest charts\"\n",
              "            style=\"display:none;\">\n",
              "\n",
              "<svg xmlns=\"http://www.w3.org/2000/svg\" height=\"24px\"viewBox=\"0 0 24 24\"\n",
              "     width=\"24px\">\n",
              "    <g>\n",
              "        <path d=\"M19 3H5c-1.1 0-2 .9-2 2v14c0 1.1.9 2 2 2h14c1.1 0 2-.9 2-2V5c0-1.1-.9-2-2-2zM9 17H7v-7h2v7zm4 0h-2V7h2v10zm4 0h-2v-4h2v4z\"/>\n",
              "    </g>\n",
              "</svg>\n",
              "  </button>\n",
              "\n",
              "<style>\n",
              "  .colab-df-quickchart {\n",
              "      --bg-color: #E8F0FE;\n",
              "      --fill-color: #1967D2;\n",
              "      --hover-bg-color: #E2EBFA;\n",
              "      --hover-fill-color: #174EA6;\n",
              "      --disabled-fill-color: #AAA;\n",
              "      --disabled-bg-color: #DDD;\n",
              "  }\n",
              "\n",
              "  [theme=dark] .colab-df-quickchart {\n",
              "      --bg-color: #3B4455;\n",
              "      --fill-color: #D2E3FC;\n",
              "      --hover-bg-color: #434B5C;\n",
              "      --hover-fill-color: #FFFFFF;\n",
              "      --disabled-bg-color: #3B4455;\n",
              "      --disabled-fill-color: #666;\n",
              "  }\n",
              "\n",
              "  .colab-df-quickchart {\n",
              "    background-color: var(--bg-color);\n",
              "    border: none;\n",
              "    border-radius: 50%;\n",
              "    cursor: pointer;\n",
              "    display: none;\n",
              "    fill: var(--fill-color);\n",
              "    height: 32px;\n",
              "    padding: 0;\n",
              "    width: 32px;\n",
              "  }\n",
              "\n",
              "  .colab-df-quickchart:hover {\n",
              "    background-color: var(--hover-bg-color);\n",
              "    box-shadow: 0 1px 2px rgba(60, 64, 67, 0.3), 0 1px 3px 1px rgba(60, 64, 67, 0.15);\n",
              "    fill: var(--button-hover-fill-color);\n",
              "  }\n",
              "\n",
              "  .colab-df-quickchart-complete:disabled,\n",
              "  .colab-df-quickchart-complete:disabled:hover {\n",
              "    background-color: var(--disabled-bg-color);\n",
              "    fill: var(--disabled-fill-color);\n",
              "    box-shadow: none;\n",
              "  }\n",
              "\n",
              "  .colab-df-spinner {\n",
              "    border: 2px solid var(--fill-color);\n",
              "    border-color: transparent;\n",
              "    border-bottom-color: var(--fill-color);\n",
              "    animation:\n",
              "      spin 1s steps(1) infinite;\n",
              "  }\n",
              "\n",
              "  @keyframes spin {\n",
              "    0% {\n",
              "      border-color: transparent;\n",
              "      border-bottom-color: var(--fill-color);\n",
              "      border-left-color: var(--fill-color);\n",
              "    }\n",
              "    20% {\n",
              "      border-color: transparent;\n",
              "      border-left-color: var(--fill-color);\n",
              "      border-top-color: var(--fill-color);\n",
              "    }\n",
              "    30% {\n",
              "      border-color: transparent;\n",
              "      border-left-color: var(--fill-color);\n",
              "      border-top-color: var(--fill-color);\n",
              "      border-right-color: var(--fill-color);\n",
              "    }\n",
              "    40% {\n",
              "      border-color: transparent;\n",
              "      border-right-color: var(--fill-color);\n",
              "      border-top-color: var(--fill-color);\n",
              "    }\n",
              "    60% {\n",
              "      border-color: transparent;\n",
              "      border-right-color: var(--fill-color);\n",
              "    }\n",
              "    80% {\n",
              "      border-color: transparent;\n",
              "      border-right-color: var(--fill-color);\n",
              "      border-bottom-color: var(--fill-color);\n",
              "    }\n",
              "    90% {\n",
              "      border-color: transparent;\n",
              "      border-bottom-color: var(--fill-color);\n",
              "    }\n",
              "  }\n",
              "</style>\n",
              "\n",
              "  <script>\n",
              "    async function quickchart(key) {\n",
              "      const quickchartButtonEl =\n",
              "        document.querySelector('#' + key + ' button');\n",
              "      quickchartButtonEl.disabled = true;  // To prevent multiple clicks.\n",
              "      quickchartButtonEl.classList.add('colab-df-spinner');\n",
              "      try {\n",
              "        const charts = await google.colab.kernel.invokeFunction(\n",
              "            'suggestCharts', [key], {});\n",
              "      } catch (error) {\n",
              "        console.error('Error during call to suggestCharts:', error);\n",
              "      }\n",
              "      quickchartButtonEl.classList.remove('colab-df-spinner');\n",
              "      quickchartButtonEl.classList.add('colab-df-quickchart-complete');\n",
              "    }\n",
              "    (() => {\n",
              "      let quickchartButtonEl =\n",
              "        document.querySelector('#df-e93e1d5f-b913-4f9f-bf7f-197e673eb14d button');\n",
              "      quickchartButtonEl.style.display =\n",
              "        google.colab.kernel.accessAllowed ? 'block' : 'none';\n",
              "    })();\n",
              "  </script>\n",
              "</div>\n",
              "\n",
              "  <div id=\"id_a50a5897-d36d-4b3e-b9f5-980ab1b30977\">\n",
              "    <style>\n",
              "      .colab-df-generate {\n",
              "        background-color: #E8F0FE;\n",
              "        border: none;\n",
              "        border-radius: 50%;\n",
              "        cursor: pointer;\n",
              "        display: none;\n",
              "        fill: #1967D2;\n",
              "        height: 32px;\n",
              "        padding: 0 0 0 0;\n",
              "        width: 32px;\n",
              "      }\n",
              "\n",
              "      .colab-df-generate:hover {\n",
              "        background-color: #E2EBFA;\n",
              "        box-shadow: 0px 1px 2px rgba(60, 64, 67, 0.3), 0px 1px 3px 1px rgba(60, 64, 67, 0.15);\n",
              "        fill: #174EA6;\n",
              "      }\n",
              "\n",
              "      [theme=dark] .colab-df-generate {\n",
              "        background-color: #3B4455;\n",
              "        fill: #D2E3FC;\n",
              "      }\n",
              "\n",
              "      [theme=dark] .colab-df-generate:hover {\n",
              "        background-color: #434B5C;\n",
              "        box-shadow: 0px 1px 3px 1px rgba(0, 0, 0, 0.15);\n",
              "        filter: drop-shadow(0px 1px 2px rgba(0, 0, 0, 0.3));\n",
              "        fill: #FFFFFF;\n",
              "      }\n",
              "    </style>\n",
              "    <button class=\"colab-df-generate\" onclick=\"generateWithVariable('movies_dataframe')\"\n",
              "            title=\"Generate code using this dataframe.\"\n",
              "            style=\"display:none;\">\n",
              "\n",
              "  <svg xmlns=\"http://www.w3.org/2000/svg\" height=\"24px\"viewBox=\"0 0 24 24\"\n",
              "       width=\"24px\">\n",
              "    <path d=\"M7,19H8.4L18.45,9,17,7.55,7,17.6ZM5,21V16.75L18.45,3.32a2,2,0,0,1,2.83,0l1.4,1.43a1.91,1.91,0,0,1,.58,1.4,1.91,1.91,0,0,1-.58,1.4L9.25,21ZM18.45,9,17,7.55Zm-12,3A5.31,5.31,0,0,0,4.9,8.1,5.31,5.31,0,0,0,1,6.5,5.31,5.31,0,0,0,4.9,4.9,5.31,5.31,0,0,0,6.5,1,5.31,5.31,0,0,0,8.1,4.9,5.31,5.31,0,0,0,12,6.5,5.46,5.46,0,0,0,6.5,12Z\"/>\n",
              "  </svg>\n",
              "    </button>\n",
              "    <script>\n",
              "      (() => {\n",
              "      const buttonEl =\n",
              "        document.querySelector('#id_a50a5897-d36d-4b3e-b9f5-980ab1b30977 button.colab-df-generate');\n",
              "      buttonEl.style.display =\n",
              "        google.colab.kernel.accessAllowed ? 'block' : 'none';\n",
              "\n",
              "      buttonEl.onclick = () => {\n",
              "        google.colab.notebook.generateWithVariable('movies_dataframe');\n",
              "      }\n",
              "      })();\n",
              "    </script>\n",
              "  </div>\n",
              "\n",
              "    </div>\n",
              "  </div>\n"
            ],
            "application/vnd.google.colaboratory.intrinsic+json": {
              "type": "dataframe",
              "variable_name": "movies_dataframe",
              "summary": "{\n  \"name\": \"movies_dataframe\",\n  \"rows\": 3,\n  \"fields\": [\n    {\n      \"column\": \"title\",\n      \"properties\": {\n        \"dtype\": \"string\",\n        \"num_unique_values\": 3,\n        \"samples\": [\n          \"Fast & Furious\",\n          \"The Dark Knight\",\n          \"Memento\"\n        ],\n        \"semantic_type\": \"\",\n        \"description\": \"\"\n      }\n    },\n    {\n      \"column\": \"description\",\n      \"properties\": {\n        \"dtype\": \"string\",\n        \"num_unique_values\": 3,\n        \"samples\": [\n          \"A movie, a race, a franchise\",\n          \"Gotham, the \\\"Batman\\\", and the Joker\",\n          \"A guy forgets everything every 15 minutes\"\n        ],\n        \"semantic_type\": \"\",\n        \"description\": \"\"\n      }\n    }\n  ]\n}"
            }
          },
          "metadata": {},
          "execution_count": 173
        }
      ],
      "source": [
        "movies_dataframe"
      ]
    },
    {
      "cell_type": "markdown",
      "metadata": {
        "id": "NN9g6miDooxj"
      },
      "source": [
        "A dataframe can be converted into a list of dictionaries using the `to_dict` method."
      ]
    },
    {
      "cell_type": "code",
      "execution_count": 174,
      "metadata": {
        "id": "tsYEzFV6ooxj"
      },
      "outputs": [],
      "source": [
        "movies = movies_dataframe.to_dict('records')"
      ]
    },
    {
      "cell_type": "code",
      "execution_count": 175,
      "metadata": {
        "colab": {
          "base_uri": "https://localhost:8080/"
        },
        "id": "-qDy4xvZooxj",
        "outputId": "caa9665f-59d8-4835-9eea-975025506b4f"
      },
      "outputs": [
        {
          "output_type": "execute_result",
          "data": {
            "text/plain": [
              "[{'title': 'Fast & Furious', 'description': 'A movie, a race, a franchise'},\n",
              " {'title': 'The Dark Knight',\n",
              "  'description': 'Gotham, the \"Batman\", and the Joker'},\n",
              " {'title': 'Memento',\n",
              "  'description': 'A guy forgets everything every 15 minutes'}]"
            ]
          },
          "metadata": {},
          "execution_count": 175
        }
      ],
      "source": [
        "movies"
      ]
    },
    {
      "cell_type": "markdown",
      "metadata": {
        "id": "LCopQuZ8ooxj"
      },
      "source": [
        "If you don't pass the arguments `records`, you get a dictionary of lists instead."
      ]
    },
    {
      "cell_type": "code",
      "execution_count": 176,
      "metadata": {
        "id": "8_s8J3-9ooxj"
      },
      "outputs": [],
      "source": [
        "movies_dict = movies_dataframe.to_dict()"
      ]
    },
    {
      "cell_type": "code",
      "execution_count": 177,
      "metadata": {
        "colab": {
          "base_uri": "https://localhost:8080/"
        },
        "id": "6mv5F-4Oooxk",
        "outputId": "4fdc9946-e244-462a-8179-4029de4ae41b"
      },
      "outputs": [
        {
          "output_type": "execute_result",
          "data": {
            "text/plain": [
              "{'title': {0: 'Fast & Furious', 1: 'The Dark Knight', 2: 'Memento'},\n",
              " 'description': {0: 'A movie, a race, a franchise',\n",
              "  1: 'Gotham, the \"Batman\", and the Joker',\n",
              "  2: 'A guy forgets everything every 15 minutes'}}"
            ]
          },
          "metadata": {},
          "execution_count": 177
        }
      ],
      "source": [
        "movies_dict"
      ]
    },
    {
      "cell_type": "markdown",
      "metadata": {
        "id": "umAkHNpdooxk"
      },
      "source": [
        "Let's try using the `write_csv` function to write the data in `movies` back to a CSV file."
      ]
    },
    {
      "cell_type": "code",
      "execution_count": 178,
      "metadata": {
        "id": "BuR1WINhooxk"
      },
      "outputs": [],
      "source": [
        "write_csv(movies, 'movies2.csv')"
      ]
    },
    {
      "cell_type": "code",
      "execution_count": 179,
      "metadata": {
        "colab": {
          "base_uri": "https://localhost:8080/"
        },
        "id": "tXN60hzoooxk",
        "outputId": "deb33eb8-2b59-449e-fc47-e9e82468b3d8"
      },
      "outputs": [
        {
          "output_type": "stream",
          "name": "stdout",
          "text": [
            "title,description\n",
            "Fast & Furious,A movie, a race, a franchise\n",
            "The Dark Knight,Gotham, the \"Batman\", and the Joker\n",
            "Memento,A guy forgets everything every 15 minutes\n"
          ]
        }
      ],
      "source": [
        "!head movies2.csv"
      ]
    },
    {
      "cell_type": "markdown",
      "metadata": {
        "id": "RCvH5-Ylooxk"
      },
      "source": [
        "As you can see above, the CSV file is not formatted properly. This can be verified by attempting to read the file using `pd.read_csv`."
      ]
    },
    {
      "cell_type": "code",
      "execution_count": 180,
      "metadata": {
        "colab": {
          "base_uri": "https://localhost:8080/",
          "height": 143
        },
        "id": "j9GZ2paiooxk",
        "outputId": "fb71aa84-3d3e-4ffa-f677-4b5df8d0fe79"
      },
      "outputs": [
        {
          "output_type": "execute_result",
          "data": {
            "text/plain": [
              "                                                                   title  \\\n",
              "Fast & Furious  A movie                                           a race   \n",
              "The Dark Knight Gotham                                      the \"Batman\"   \n",
              "Memento         A guy forgets everything every 15 minutes            NaN   \n",
              "\n",
              "                                                              description  \n",
              "Fast & Furious  A movie                                       a franchise  \n",
              "The Dark Knight Gotham                                      and the Joker  \n",
              "Memento         A guy forgets everything every 15 minutes             NaN  "
            ],
            "text/html": [
              "\n",
              "  <div id=\"df-e1170580-fc88-4fdd-87f7-ba2b3433cf1b\" class=\"colab-df-container\">\n",
              "    <div>\n",
              "<style scoped>\n",
              "    .dataframe tbody tr th:only-of-type {\n",
              "        vertical-align: middle;\n",
              "    }\n",
              "\n",
              "    .dataframe tbody tr th {\n",
              "        vertical-align: top;\n",
              "    }\n",
              "\n",
              "    .dataframe thead th {\n",
              "        text-align: right;\n",
              "    }\n",
              "</style>\n",
              "<table border=\"1\" class=\"dataframe\">\n",
              "  <thead>\n",
              "    <tr style=\"text-align: right;\">\n",
              "      <th></th>\n",
              "      <th></th>\n",
              "      <th>title</th>\n",
              "      <th>description</th>\n",
              "    </tr>\n",
              "  </thead>\n",
              "  <tbody>\n",
              "    <tr>\n",
              "      <th>Fast &amp; Furious</th>\n",
              "      <th>A movie</th>\n",
              "      <td>a race</td>\n",
              "      <td>a franchise</td>\n",
              "    </tr>\n",
              "    <tr>\n",
              "      <th>The Dark Knight</th>\n",
              "      <th>Gotham</th>\n",
              "      <td>the \"Batman\"</td>\n",
              "      <td>and the Joker</td>\n",
              "    </tr>\n",
              "    <tr>\n",
              "      <th>Memento</th>\n",
              "      <th>A guy forgets everything every 15 minutes</th>\n",
              "      <td>NaN</td>\n",
              "      <td>NaN</td>\n",
              "    </tr>\n",
              "  </tbody>\n",
              "</table>\n",
              "</div>\n",
              "    <div class=\"colab-df-buttons\">\n",
              "\n",
              "  <div class=\"colab-df-container\">\n",
              "    <button class=\"colab-df-convert\" onclick=\"convertToInteractive('df-e1170580-fc88-4fdd-87f7-ba2b3433cf1b')\"\n",
              "            title=\"Convert this dataframe to an interactive table.\"\n",
              "            style=\"display:none;\">\n",
              "\n",
              "  <svg xmlns=\"http://www.w3.org/2000/svg\" height=\"24px\" viewBox=\"0 -960 960 960\">\n",
              "    <path d=\"M120-120v-720h720v720H120Zm60-500h600v-160H180v160Zm220 220h160v-160H400v160Zm0 220h160v-160H400v160ZM180-400h160v-160H180v160Zm440 0h160v-160H620v160ZM180-180h160v-160H180v160Zm440 0h160v-160H620v160Z\"/>\n",
              "  </svg>\n",
              "    </button>\n",
              "\n",
              "  <style>\n",
              "    .colab-df-container {\n",
              "      display:flex;\n",
              "      gap: 12px;\n",
              "    }\n",
              "\n",
              "    .colab-df-convert {\n",
              "      background-color: #E8F0FE;\n",
              "      border: none;\n",
              "      border-radius: 50%;\n",
              "      cursor: pointer;\n",
              "      display: none;\n",
              "      fill: #1967D2;\n",
              "      height: 32px;\n",
              "      padding: 0 0 0 0;\n",
              "      width: 32px;\n",
              "    }\n",
              "\n",
              "    .colab-df-convert:hover {\n",
              "      background-color: #E2EBFA;\n",
              "      box-shadow: 0px 1px 2px rgba(60, 64, 67, 0.3), 0px 1px 3px 1px rgba(60, 64, 67, 0.15);\n",
              "      fill: #174EA6;\n",
              "    }\n",
              "\n",
              "    .colab-df-buttons div {\n",
              "      margin-bottom: 4px;\n",
              "    }\n",
              "\n",
              "    [theme=dark] .colab-df-convert {\n",
              "      background-color: #3B4455;\n",
              "      fill: #D2E3FC;\n",
              "    }\n",
              "\n",
              "    [theme=dark] .colab-df-convert:hover {\n",
              "      background-color: #434B5C;\n",
              "      box-shadow: 0px 1px 3px 1px rgba(0, 0, 0, 0.15);\n",
              "      filter: drop-shadow(0px 1px 2px rgba(0, 0, 0, 0.3));\n",
              "      fill: #FFFFFF;\n",
              "    }\n",
              "  </style>\n",
              "\n",
              "    <script>\n",
              "      const buttonEl =\n",
              "        document.querySelector('#df-e1170580-fc88-4fdd-87f7-ba2b3433cf1b button.colab-df-convert');\n",
              "      buttonEl.style.display =\n",
              "        google.colab.kernel.accessAllowed ? 'block' : 'none';\n",
              "\n",
              "      async function convertToInteractive(key) {\n",
              "        const element = document.querySelector('#df-e1170580-fc88-4fdd-87f7-ba2b3433cf1b');\n",
              "        const dataTable =\n",
              "          await google.colab.kernel.invokeFunction('convertToInteractive',\n",
              "                                                    [key], {});\n",
              "        if (!dataTable) return;\n",
              "\n",
              "        const docLinkHtml = 'Like what you see? Visit the ' +\n",
              "          '<a target=\"_blank\" href=https://colab.research.google.com/notebooks/data_table.ipynb>data table notebook</a>'\n",
              "          + ' to learn more about interactive tables.';\n",
              "        element.innerHTML = '';\n",
              "        dataTable['output_type'] = 'display_data';\n",
              "        await google.colab.output.renderOutput(dataTable, element);\n",
              "        const docLink = document.createElement('div');\n",
              "        docLink.innerHTML = docLinkHtml;\n",
              "        element.appendChild(docLink);\n",
              "      }\n",
              "    </script>\n",
              "  </div>\n",
              "\n",
              "\n",
              "<div id=\"df-23152242-b56a-4ece-93a2-a9109c654eb3\">\n",
              "  <button class=\"colab-df-quickchart\" onclick=\"quickchart('df-23152242-b56a-4ece-93a2-a9109c654eb3')\"\n",
              "            title=\"Suggest charts\"\n",
              "            style=\"display:none;\">\n",
              "\n",
              "<svg xmlns=\"http://www.w3.org/2000/svg\" height=\"24px\"viewBox=\"0 0 24 24\"\n",
              "     width=\"24px\">\n",
              "    <g>\n",
              "        <path d=\"M19 3H5c-1.1 0-2 .9-2 2v14c0 1.1.9 2 2 2h14c1.1 0 2-.9 2-2V5c0-1.1-.9-2-2-2zM9 17H7v-7h2v7zm4 0h-2V7h2v10zm4 0h-2v-4h2v4z\"/>\n",
              "    </g>\n",
              "</svg>\n",
              "  </button>\n",
              "\n",
              "<style>\n",
              "  .colab-df-quickchart {\n",
              "      --bg-color: #E8F0FE;\n",
              "      --fill-color: #1967D2;\n",
              "      --hover-bg-color: #E2EBFA;\n",
              "      --hover-fill-color: #174EA6;\n",
              "      --disabled-fill-color: #AAA;\n",
              "      --disabled-bg-color: #DDD;\n",
              "  }\n",
              "\n",
              "  [theme=dark] .colab-df-quickchart {\n",
              "      --bg-color: #3B4455;\n",
              "      --fill-color: #D2E3FC;\n",
              "      --hover-bg-color: #434B5C;\n",
              "      --hover-fill-color: #FFFFFF;\n",
              "      --disabled-bg-color: #3B4455;\n",
              "      --disabled-fill-color: #666;\n",
              "  }\n",
              "\n",
              "  .colab-df-quickchart {\n",
              "    background-color: var(--bg-color);\n",
              "    border: none;\n",
              "    border-radius: 50%;\n",
              "    cursor: pointer;\n",
              "    display: none;\n",
              "    fill: var(--fill-color);\n",
              "    height: 32px;\n",
              "    padding: 0;\n",
              "    width: 32px;\n",
              "  }\n",
              "\n",
              "  .colab-df-quickchart:hover {\n",
              "    background-color: var(--hover-bg-color);\n",
              "    box-shadow: 0 1px 2px rgba(60, 64, 67, 0.3), 0 1px 3px 1px rgba(60, 64, 67, 0.15);\n",
              "    fill: var(--button-hover-fill-color);\n",
              "  }\n",
              "\n",
              "  .colab-df-quickchart-complete:disabled,\n",
              "  .colab-df-quickchart-complete:disabled:hover {\n",
              "    background-color: var(--disabled-bg-color);\n",
              "    fill: var(--disabled-fill-color);\n",
              "    box-shadow: none;\n",
              "  }\n",
              "\n",
              "  .colab-df-spinner {\n",
              "    border: 2px solid var(--fill-color);\n",
              "    border-color: transparent;\n",
              "    border-bottom-color: var(--fill-color);\n",
              "    animation:\n",
              "      spin 1s steps(1) infinite;\n",
              "  }\n",
              "\n",
              "  @keyframes spin {\n",
              "    0% {\n",
              "      border-color: transparent;\n",
              "      border-bottom-color: var(--fill-color);\n",
              "      border-left-color: var(--fill-color);\n",
              "    }\n",
              "    20% {\n",
              "      border-color: transparent;\n",
              "      border-left-color: var(--fill-color);\n",
              "      border-top-color: var(--fill-color);\n",
              "    }\n",
              "    30% {\n",
              "      border-color: transparent;\n",
              "      border-left-color: var(--fill-color);\n",
              "      border-top-color: var(--fill-color);\n",
              "      border-right-color: var(--fill-color);\n",
              "    }\n",
              "    40% {\n",
              "      border-color: transparent;\n",
              "      border-right-color: var(--fill-color);\n",
              "      border-top-color: var(--fill-color);\n",
              "    }\n",
              "    60% {\n",
              "      border-color: transparent;\n",
              "      border-right-color: var(--fill-color);\n",
              "    }\n",
              "    80% {\n",
              "      border-color: transparent;\n",
              "      border-right-color: var(--fill-color);\n",
              "      border-bottom-color: var(--fill-color);\n",
              "    }\n",
              "    90% {\n",
              "      border-color: transparent;\n",
              "      border-bottom-color: var(--fill-color);\n",
              "    }\n",
              "  }\n",
              "</style>\n",
              "\n",
              "  <script>\n",
              "    async function quickchart(key) {\n",
              "      const quickchartButtonEl =\n",
              "        document.querySelector('#' + key + ' button');\n",
              "      quickchartButtonEl.disabled = true;  // To prevent multiple clicks.\n",
              "      quickchartButtonEl.classList.add('colab-df-spinner');\n",
              "      try {\n",
              "        const charts = await google.colab.kernel.invokeFunction(\n",
              "            'suggestCharts', [key], {});\n",
              "      } catch (error) {\n",
              "        console.error('Error during call to suggestCharts:', error);\n",
              "      }\n",
              "      quickchartButtonEl.classList.remove('colab-df-spinner');\n",
              "      quickchartButtonEl.classList.add('colab-df-quickchart-complete');\n",
              "    }\n",
              "    (() => {\n",
              "      let quickchartButtonEl =\n",
              "        document.querySelector('#df-23152242-b56a-4ece-93a2-a9109c654eb3 button');\n",
              "      quickchartButtonEl.style.display =\n",
              "        google.colab.kernel.accessAllowed ? 'block' : 'none';\n",
              "    })();\n",
              "  </script>\n",
              "</div>\n",
              "\n",
              "    </div>\n",
              "  </div>\n"
            ],
            "application/vnd.google.colaboratory.intrinsic+json": {
              "type": "dataframe",
              "summary": "{\n  \"name\": \"pd\",\n  \"rows\": 3,\n  \"fields\": [\n    {\n      \"column\": \"title\",\n      \"properties\": {\n        \"dtype\": \"string\",\n        \"num_unique_values\": 2,\n        \"samples\": [\n          \" the \\\"Batman\\\"\",\n          \" a race\"\n        ],\n        \"semantic_type\": \"\",\n        \"description\": \"\"\n      }\n    },\n    {\n      \"column\": \"description\",\n      \"properties\": {\n        \"dtype\": \"string\",\n        \"num_unique_values\": 2,\n        \"samples\": [\n          \" and the Joker\",\n          \" a franchise\"\n        ],\n        \"semantic_type\": \"\",\n        \"description\": \"\"\n      }\n    }\n  ]\n}"
            }
          },
          "metadata": {},
          "execution_count": 180
        }
      ],
      "source": [
        "pd.read_csv('movies2.csv')"
      ]
    },
    {
      "cell_type": "markdown",
      "metadata": {
        "id": "LErPkKNkooxk"
      },
      "source": [
        "To convert a list of dictionaries into a dataframe, you can use the `pd.DataFrame` constructor."
      ]
    },
    {
      "cell_type": "code",
      "execution_count": 181,
      "metadata": {
        "id": "tAb4DCPTooxl"
      },
      "outputs": [],
      "source": [
        "df2 = pd.DataFrame(movies)"
      ]
    },
    {
      "cell_type": "markdown",
      "metadata": {
        "id": "hmMV0uArooxl"
      },
      "source": [
        "It can now be written to a CSV file using the `.to_csv` method of a dataframe."
      ]
    },
    {
      "cell_type": "code",
      "execution_count": 182,
      "metadata": {
        "id": "O2aa6LQ9ooxl"
      },
      "outputs": [],
      "source": [
        "df2.to_csv('movies3.csv', index=None)"
      ]
    },
    {
      "cell_type": "code",
      "source": [
        "df2"
      ],
      "metadata": {
        "colab": {
          "base_uri": "https://localhost:8080/",
          "height": 143
        },
        "id": "L7Y4ll-azpwn",
        "outputId": "6c7d0ede-a08d-4b12-8cc8-d64eb1494750"
      },
      "execution_count": 183,
      "outputs": [
        {
          "output_type": "execute_result",
          "data": {
            "text/plain": [
              "             title                                description\n",
              "0   Fast & Furious               A movie, a race, a franchise\n",
              "1  The Dark Knight        Gotham, the \"Batman\", and the Joker\n",
              "2          Memento  A guy forgets everything every 15 minutes"
            ],
            "text/html": [
              "\n",
              "  <div id=\"df-7cde7414-e3b1-4ef5-a6e8-f0ffc9fd2f63\" class=\"colab-df-container\">\n",
              "    <div>\n",
              "<style scoped>\n",
              "    .dataframe tbody tr th:only-of-type {\n",
              "        vertical-align: middle;\n",
              "    }\n",
              "\n",
              "    .dataframe tbody tr th {\n",
              "        vertical-align: top;\n",
              "    }\n",
              "\n",
              "    .dataframe thead th {\n",
              "        text-align: right;\n",
              "    }\n",
              "</style>\n",
              "<table border=\"1\" class=\"dataframe\">\n",
              "  <thead>\n",
              "    <tr style=\"text-align: right;\">\n",
              "      <th></th>\n",
              "      <th>title</th>\n",
              "      <th>description</th>\n",
              "    </tr>\n",
              "  </thead>\n",
              "  <tbody>\n",
              "    <tr>\n",
              "      <th>0</th>\n",
              "      <td>Fast &amp; Furious</td>\n",
              "      <td>A movie, a race, a franchise</td>\n",
              "    </tr>\n",
              "    <tr>\n",
              "      <th>1</th>\n",
              "      <td>The Dark Knight</td>\n",
              "      <td>Gotham, the \"Batman\", and the Joker</td>\n",
              "    </tr>\n",
              "    <tr>\n",
              "      <th>2</th>\n",
              "      <td>Memento</td>\n",
              "      <td>A guy forgets everything every 15 minutes</td>\n",
              "    </tr>\n",
              "  </tbody>\n",
              "</table>\n",
              "</div>\n",
              "    <div class=\"colab-df-buttons\">\n",
              "\n",
              "  <div class=\"colab-df-container\">\n",
              "    <button class=\"colab-df-convert\" onclick=\"convertToInteractive('df-7cde7414-e3b1-4ef5-a6e8-f0ffc9fd2f63')\"\n",
              "            title=\"Convert this dataframe to an interactive table.\"\n",
              "            style=\"display:none;\">\n",
              "\n",
              "  <svg xmlns=\"http://www.w3.org/2000/svg\" height=\"24px\" viewBox=\"0 -960 960 960\">\n",
              "    <path d=\"M120-120v-720h720v720H120Zm60-500h600v-160H180v160Zm220 220h160v-160H400v160Zm0 220h160v-160H400v160ZM180-400h160v-160H180v160Zm440 0h160v-160H620v160ZM180-180h160v-160H180v160Zm440 0h160v-160H620v160Z\"/>\n",
              "  </svg>\n",
              "    </button>\n",
              "\n",
              "  <style>\n",
              "    .colab-df-container {\n",
              "      display:flex;\n",
              "      gap: 12px;\n",
              "    }\n",
              "\n",
              "    .colab-df-convert {\n",
              "      background-color: #E8F0FE;\n",
              "      border: none;\n",
              "      border-radius: 50%;\n",
              "      cursor: pointer;\n",
              "      display: none;\n",
              "      fill: #1967D2;\n",
              "      height: 32px;\n",
              "      padding: 0 0 0 0;\n",
              "      width: 32px;\n",
              "    }\n",
              "\n",
              "    .colab-df-convert:hover {\n",
              "      background-color: #E2EBFA;\n",
              "      box-shadow: 0px 1px 2px rgba(60, 64, 67, 0.3), 0px 1px 3px 1px rgba(60, 64, 67, 0.15);\n",
              "      fill: #174EA6;\n",
              "    }\n",
              "\n",
              "    .colab-df-buttons div {\n",
              "      margin-bottom: 4px;\n",
              "    }\n",
              "\n",
              "    [theme=dark] .colab-df-convert {\n",
              "      background-color: #3B4455;\n",
              "      fill: #D2E3FC;\n",
              "    }\n",
              "\n",
              "    [theme=dark] .colab-df-convert:hover {\n",
              "      background-color: #434B5C;\n",
              "      box-shadow: 0px 1px 3px 1px rgba(0, 0, 0, 0.15);\n",
              "      filter: drop-shadow(0px 1px 2px rgba(0, 0, 0, 0.3));\n",
              "      fill: #FFFFFF;\n",
              "    }\n",
              "  </style>\n",
              "\n",
              "    <script>\n",
              "      const buttonEl =\n",
              "        document.querySelector('#df-7cde7414-e3b1-4ef5-a6e8-f0ffc9fd2f63 button.colab-df-convert');\n",
              "      buttonEl.style.display =\n",
              "        google.colab.kernel.accessAllowed ? 'block' : 'none';\n",
              "\n",
              "      async function convertToInteractive(key) {\n",
              "        const element = document.querySelector('#df-7cde7414-e3b1-4ef5-a6e8-f0ffc9fd2f63');\n",
              "        const dataTable =\n",
              "          await google.colab.kernel.invokeFunction('convertToInteractive',\n",
              "                                                    [key], {});\n",
              "        if (!dataTable) return;\n",
              "\n",
              "        const docLinkHtml = 'Like what you see? Visit the ' +\n",
              "          '<a target=\"_blank\" href=https://colab.research.google.com/notebooks/data_table.ipynb>data table notebook</a>'\n",
              "          + ' to learn more about interactive tables.';\n",
              "        element.innerHTML = '';\n",
              "        dataTable['output_type'] = 'display_data';\n",
              "        await google.colab.output.renderOutput(dataTable, element);\n",
              "        const docLink = document.createElement('div');\n",
              "        docLink.innerHTML = docLinkHtml;\n",
              "        element.appendChild(docLink);\n",
              "      }\n",
              "    </script>\n",
              "  </div>\n",
              "\n",
              "\n",
              "<div id=\"df-e92b776a-bfe4-4b57-bea2-a750de072e5c\">\n",
              "  <button class=\"colab-df-quickchart\" onclick=\"quickchart('df-e92b776a-bfe4-4b57-bea2-a750de072e5c')\"\n",
              "            title=\"Suggest charts\"\n",
              "            style=\"display:none;\">\n",
              "\n",
              "<svg xmlns=\"http://www.w3.org/2000/svg\" height=\"24px\"viewBox=\"0 0 24 24\"\n",
              "     width=\"24px\">\n",
              "    <g>\n",
              "        <path d=\"M19 3H5c-1.1 0-2 .9-2 2v14c0 1.1.9 2 2 2h14c1.1 0 2-.9 2-2V5c0-1.1-.9-2-2-2zM9 17H7v-7h2v7zm4 0h-2V7h2v10zm4 0h-2v-4h2v4z\"/>\n",
              "    </g>\n",
              "</svg>\n",
              "  </button>\n",
              "\n",
              "<style>\n",
              "  .colab-df-quickchart {\n",
              "      --bg-color: #E8F0FE;\n",
              "      --fill-color: #1967D2;\n",
              "      --hover-bg-color: #E2EBFA;\n",
              "      --hover-fill-color: #174EA6;\n",
              "      --disabled-fill-color: #AAA;\n",
              "      --disabled-bg-color: #DDD;\n",
              "  }\n",
              "\n",
              "  [theme=dark] .colab-df-quickchart {\n",
              "      --bg-color: #3B4455;\n",
              "      --fill-color: #D2E3FC;\n",
              "      --hover-bg-color: #434B5C;\n",
              "      --hover-fill-color: #FFFFFF;\n",
              "      --disabled-bg-color: #3B4455;\n",
              "      --disabled-fill-color: #666;\n",
              "  }\n",
              "\n",
              "  .colab-df-quickchart {\n",
              "    background-color: var(--bg-color);\n",
              "    border: none;\n",
              "    border-radius: 50%;\n",
              "    cursor: pointer;\n",
              "    display: none;\n",
              "    fill: var(--fill-color);\n",
              "    height: 32px;\n",
              "    padding: 0;\n",
              "    width: 32px;\n",
              "  }\n",
              "\n",
              "  .colab-df-quickchart:hover {\n",
              "    background-color: var(--hover-bg-color);\n",
              "    box-shadow: 0 1px 2px rgba(60, 64, 67, 0.3), 0 1px 3px 1px rgba(60, 64, 67, 0.15);\n",
              "    fill: var(--button-hover-fill-color);\n",
              "  }\n",
              "\n",
              "  .colab-df-quickchart-complete:disabled,\n",
              "  .colab-df-quickchart-complete:disabled:hover {\n",
              "    background-color: var(--disabled-bg-color);\n",
              "    fill: var(--disabled-fill-color);\n",
              "    box-shadow: none;\n",
              "  }\n",
              "\n",
              "  .colab-df-spinner {\n",
              "    border: 2px solid var(--fill-color);\n",
              "    border-color: transparent;\n",
              "    border-bottom-color: var(--fill-color);\n",
              "    animation:\n",
              "      spin 1s steps(1) infinite;\n",
              "  }\n",
              "\n",
              "  @keyframes spin {\n",
              "    0% {\n",
              "      border-color: transparent;\n",
              "      border-bottom-color: var(--fill-color);\n",
              "      border-left-color: var(--fill-color);\n",
              "    }\n",
              "    20% {\n",
              "      border-color: transparent;\n",
              "      border-left-color: var(--fill-color);\n",
              "      border-top-color: var(--fill-color);\n",
              "    }\n",
              "    30% {\n",
              "      border-color: transparent;\n",
              "      border-left-color: var(--fill-color);\n",
              "      border-top-color: var(--fill-color);\n",
              "      border-right-color: var(--fill-color);\n",
              "    }\n",
              "    40% {\n",
              "      border-color: transparent;\n",
              "      border-right-color: var(--fill-color);\n",
              "      border-top-color: var(--fill-color);\n",
              "    }\n",
              "    60% {\n",
              "      border-color: transparent;\n",
              "      border-right-color: var(--fill-color);\n",
              "    }\n",
              "    80% {\n",
              "      border-color: transparent;\n",
              "      border-right-color: var(--fill-color);\n",
              "      border-bottom-color: var(--fill-color);\n",
              "    }\n",
              "    90% {\n",
              "      border-color: transparent;\n",
              "      border-bottom-color: var(--fill-color);\n",
              "    }\n",
              "  }\n",
              "</style>\n",
              "\n",
              "  <script>\n",
              "    async function quickchart(key) {\n",
              "      const quickchartButtonEl =\n",
              "        document.querySelector('#' + key + ' button');\n",
              "      quickchartButtonEl.disabled = true;  // To prevent multiple clicks.\n",
              "      quickchartButtonEl.classList.add('colab-df-spinner');\n",
              "      try {\n",
              "        const charts = await google.colab.kernel.invokeFunction(\n",
              "            'suggestCharts', [key], {});\n",
              "      } catch (error) {\n",
              "        console.error('Error during call to suggestCharts:', error);\n",
              "      }\n",
              "      quickchartButtonEl.classList.remove('colab-df-spinner');\n",
              "      quickchartButtonEl.classList.add('colab-df-quickchart-complete');\n",
              "    }\n",
              "    (() => {\n",
              "      let quickchartButtonEl =\n",
              "        document.querySelector('#df-e92b776a-bfe4-4b57-bea2-a750de072e5c button');\n",
              "      quickchartButtonEl.style.display =\n",
              "        google.colab.kernel.accessAllowed ? 'block' : 'none';\n",
              "    })();\n",
              "  </script>\n",
              "</div>\n",
              "\n",
              "  <div id=\"id_936f7312-987e-458a-b4c9-a7c53f2b4883\">\n",
              "    <style>\n",
              "      .colab-df-generate {\n",
              "        background-color: #E8F0FE;\n",
              "        border: none;\n",
              "        border-radius: 50%;\n",
              "        cursor: pointer;\n",
              "        display: none;\n",
              "        fill: #1967D2;\n",
              "        height: 32px;\n",
              "        padding: 0 0 0 0;\n",
              "        width: 32px;\n",
              "      }\n",
              "\n",
              "      .colab-df-generate:hover {\n",
              "        background-color: #E2EBFA;\n",
              "        box-shadow: 0px 1px 2px rgba(60, 64, 67, 0.3), 0px 1px 3px 1px rgba(60, 64, 67, 0.15);\n",
              "        fill: #174EA6;\n",
              "      }\n",
              "\n",
              "      [theme=dark] .colab-df-generate {\n",
              "        background-color: #3B4455;\n",
              "        fill: #D2E3FC;\n",
              "      }\n",
              "\n",
              "      [theme=dark] .colab-df-generate:hover {\n",
              "        background-color: #434B5C;\n",
              "        box-shadow: 0px 1px 3px 1px rgba(0, 0, 0, 0.15);\n",
              "        filter: drop-shadow(0px 1px 2px rgba(0, 0, 0, 0.3));\n",
              "        fill: #FFFFFF;\n",
              "      }\n",
              "    </style>\n",
              "    <button class=\"colab-df-generate\" onclick=\"generateWithVariable('df2')\"\n",
              "            title=\"Generate code using this dataframe.\"\n",
              "            style=\"display:none;\">\n",
              "\n",
              "  <svg xmlns=\"http://www.w3.org/2000/svg\" height=\"24px\"viewBox=\"0 0 24 24\"\n",
              "       width=\"24px\">\n",
              "    <path d=\"M7,19H8.4L18.45,9,17,7.55,7,17.6ZM5,21V16.75L18.45,3.32a2,2,0,0,1,2.83,0l1.4,1.43a1.91,1.91,0,0,1,.58,1.4,1.91,1.91,0,0,1-.58,1.4L9.25,21ZM18.45,9,17,7.55Zm-12,3A5.31,5.31,0,0,0,4.9,8.1,5.31,5.31,0,0,0,1,6.5,5.31,5.31,0,0,0,4.9,4.9,5.31,5.31,0,0,0,6.5,1,5.31,5.31,0,0,0,8.1,4.9,5.31,5.31,0,0,0,12,6.5,5.46,5.46,0,0,0,6.5,12Z\"/>\n",
              "  </svg>\n",
              "    </button>\n",
              "    <script>\n",
              "      (() => {\n",
              "      const buttonEl =\n",
              "        document.querySelector('#id_936f7312-987e-458a-b4c9-a7c53f2b4883 button.colab-df-generate');\n",
              "      buttonEl.style.display =\n",
              "        google.colab.kernel.accessAllowed ? 'block' : 'none';\n",
              "\n",
              "      buttonEl.onclick = () => {\n",
              "        google.colab.notebook.generateWithVariable('df2');\n",
              "      }\n",
              "      })();\n",
              "    </script>\n",
              "  </div>\n",
              "\n",
              "    </div>\n",
              "  </div>\n"
            ],
            "application/vnd.google.colaboratory.intrinsic+json": {
              "type": "dataframe",
              "variable_name": "df2",
              "summary": "{\n  \"name\": \"df2\",\n  \"rows\": 3,\n  \"fields\": [\n    {\n      \"column\": \"title\",\n      \"properties\": {\n        \"dtype\": \"string\",\n        \"num_unique_values\": 3,\n        \"samples\": [\n          \"Fast & Furious\",\n          \"The Dark Knight\",\n          \"Memento\"\n        ],\n        \"semantic_type\": \"\",\n        \"description\": \"\"\n      }\n    },\n    {\n      \"column\": \"description\",\n      \"properties\": {\n        \"dtype\": \"string\",\n        \"num_unique_values\": 3,\n        \"samples\": [\n          \"A movie, a race, a franchise\",\n          \"Gotham, the \\\"Batman\\\", and the Joker\",\n          \"A guy forgets everything every 15 minutes\"\n        ],\n        \"semantic_type\": \"\",\n        \"description\": \"\"\n      }\n    }\n  ]\n}"
            }
          },
          "metadata": {},
          "execution_count": 183
        }
      ]
    },
    {
      "cell_type": "code",
      "source": [
        "df2.to_csv('movies3.csv')"
      ],
      "metadata": {
        "id": "0jluelG-z0Id"
      },
      "execution_count": 184,
      "outputs": []
    },
    {
      "cell_type": "code",
      "source": [
        "df2"
      ],
      "metadata": {
        "colab": {
          "base_uri": "https://localhost:8080/",
          "height": 143
        },
        "id": "FYRj_JK8z1X9",
        "outputId": "98eca86f-36c5-4b56-d097-0e9270521088"
      },
      "execution_count": 185,
      "outputs": [
        {
          "output_type": "execute_result",
          "data": {
            "text/plain": [
              "             title                                description\n",
              "0   Fast & Furious               A movie, a race, a franchise\n",
              "1  The Dark Knight        Gotham, the \"Batman\", and the Joker\n",
              "2          Memento  A guy forgets everything every 15 minutes"
            ],
            "text/html": [
              "\n",
              "  <div id=\"df-6733fe93-ab06-4556-bedc-e529e7ffd7c9\" class=\"colab-df-container\">\n",
              "    <div>\n",
              "<style scoped>\n",
              "    .dataframe tbody tr th:only-of-type {\n",
              "        vertical-align: middle;\n",
              "    }\n",
              "\n",
              "    .dataframe tbody tr th {\n",
              "        vertical-align: top;\n",
              "    }\n",
              "\n",
              "    .dataframe thead th {\n",
              "        text-align: right;\n",
              "    }\n",
              "</style>\n",
              "<table border=\"1\" class=\"dataframe\">\n",
              "  <thead>\n",
              "    <tr style=\"text-align: right;\">\n",
              "      <th></th>\n",
              "      <th>title</th>\n",
              "      <th>description</th>\n",
              "    </tr>\n",
              "  </thead>\n",
              "  <tbody>\n",
              "    <tr>\n",
              "      <th>0</th>\n",
              "      <td>Fast &amp; Furious</td>\n",
              "      <td>A movie, a race, a franchise</td>\n",
              "    </tr>\n",
              "    <tr>\n",
              "      <th>1</th>\n",
              "      <td>The Dark Knight</td>\n",
              "      <td>Gotham, the \"Batman\", and the Joker</td>\n",
              "    </tr>\n",
              "    <tr>\n",
              "      <th>2</th>\n",
              "      <td>Memento</td>\n",
              "      <td>A guy forgets everything every 15 minutes</td>\n",
              "    </tr>\n",
              "  </tbody>\n",
              "</table>\n",
              "</div>\n",
              "    <div class=\"colab-df-buttons\">\n",
              "\n",
              "  <div class=\"colab-df-container\">\n",
              "    <button class=\"colab-df-convert\" onclick=\"convertToInteractive('df-6733fe93-ab06-4556-bedc-e529e7ffd7c9')\"\n",
              "            title=\"Convert this dataframe to an interactive table.\"\n",
              "            style=\"display:none;\">\n",
              "\n",
              "  <svg xmlns=\"http://www.w3.org/2000/svg\" height=\"24px\" viewBox=\"0 -960 960 960\">\n",
              "    <path d=\"M120-120v-720h720v720H120Zm60-500h600v-160H180v160Zm220 220h160v-160H400v160Zm0 220h160v-160H400v160ZM180-400h160v-160H180v160Zm440 0h160v-160H620v160ZM180-180h160v-160H180v160Zm440 0h160v-160H620v160Z\"/>\n",
              "  </svg>\n",
              "    </button>\n",
              "\n",
              "  <style>\n",
              "    .colab-df-container {\n",
              "      display:flex;\n",
              "      gap: 12px;\n",
              "    }\n",
              "\n",
              "    .colab-df-convert {\n",
              "      background-color: #E8F0FE;\n",
              "      border: none;\n",
              "      border-radius: 50%;\n",
              "      cursor: pointer;\n",
              "      display: none;\n",
              "      fill: #1967D2;\n",
              "      height: 32px;\n",
              "      padding: 0 0 0 0;\n",
              "      width: 32px;\n",
              "    }\n",
              "\n",
              "    .colab-df-convert:hover {\n",
              "      background-color: #E2EBFA;\n",
              "      box-shadow: 0px 1px 2px rgba(60, 64, 67, 0.3), 0px 1px 3px 1px rgba(60, 64, 67, 0.15);\n",
              "      fill: #174EA6;\n",
              "    }\n",
              "\n",
              "    .colab-df-buttons div {\n",
              "      margin-bottom: 4px;\n",
              "    }\n",
              "\n",
              "    [theme=dark] .colab-df-convert {\n",
              "      background-color: #3B4455;\n",
              "      fill: #D2E3FC;\n",
              "    }\n",
              "\n",
              "    [theme=dark] .colab-df-convert:hover {\n",
              "      background-color: #434B5C;\n",
              "      box-shadow: 0px 1px 3px 1px rgba(0, 0, 0, 0.15);\n",
              "      filter: drop-shadow(0px 1px 2px rgba(0, 0, 0, 0.3));\n",
              "      fill: #FFFFFF;\n",
              "    }\n",
              "  </style>\n",
              "\n",
              "    <script>\n",
              "      const buttonEl =\n",
              "        document.querySelector('#df-6733fe93-ab06-4556-bedc-e529e7ffd7c9 button.colab-df-convert');\n",
              "      buttonEl.style.display =\n",
              "        google.colab.kernel.accessAllowed ? 'block' : 'none';\n",
              "\n",
              "      async function convertToInteractive(key) {\n",
              "        const element = document.querySelector('#df-6733fe93-ab06-4556-bedc-e529e7ffd7c9');\n",
              "        const dataTable =\n",
              "          await google.colab.kernel.invokeFunction('convertToInteractive',\n",
              "                                                    [key], {});\n",
              "        if (!dataTable) return;\n",
              "\n",
              "        const docLinkHtml = 'Like what you see? Visit the ' +\n",
              "          '<a target=\"_blank\" href=https://colab.research.google.com/notebooks/data_table.ipynb>data table notebook</a>'\n",
              "          + ' to learn more about interactive tables.';\n",
              "        element.innerHTML = '';\n",
              "        dataTable['output_type'] = 'display_data';\n",
              "        await google.colab.output.renderOutput(dataTable, element);\n",
              "        const docLink = document.createElement('div');\n",
              "        docLink.innerHTML = docLinkHtml;\n",
              "        element.appendChild(docLink);\n",
              "      }\n",
              "    </script>\n",
              "  </div>\n",
              "\n",
              "\n",
              "<div id=\"df-9f5999cc-e306-492e-bae9-1fb45bacdb42\">\n",
              "  <button class=\"colab-df-quickchart\" onclick=\"quickchart('df-9f5999cc-e306-492e-bae9-1fb45bacdb42')\"\n",
              "            title=\"Suggest charts\"\n",
              "            style=\"display:none;\">\n",
              "\n",
              "<svg xmlns=\"http://www.w3.org/2000/svg\" height=\"24px\"viewBox=\"0 0 24 24\"\n",
              "     width=\"24px\">\n",
              "    <g>\n",
              "        <path d=\"M19 3H5c-1.1 0-2 .9-2 2v14c0 1.1.9 2 2 2h14c1.1 0 2-.9 2-2V5c0-1.1-.9-2-2-2zM9 17H7v-7h2v7zm4 0h-2V7h2v10zm4 0h-2v-4h2v4z\"/>\n",
              "    </g>\n",
              "</svg>\n",
              "  </button>\n",
              "\n",
              "<style>\n",
              "  .colab-df-quickchart {\n",
              "      --bg-color: #E8F0FE;\n",
              "      --fill-color: #1967D2;\n",
              "      --hover-bg-color: #E2EBFA;\n",
              "      --hover-fill-color: #174EA6;\n",
              "      --disabled-fill-color: #AAA;\n",
              "      --disabled-bg-color: #DDD;\n",
              "  }\n",
              "\n",
              "  [theme=dark] .colab-df-quickchart {\n",
              "      --bg-color: #3B4455;\n",
              "      --fill-color: #D2E3FC;\n",
              "      --hover-bg-color: #434B5C;\n",
              "      --hover-fill-color: #FFFFFF;\n",
              "      --disabled-bg-color: #3B4455;\n",
              "      --disabled-fill-color: #666;\n",
              "  }\n",
              "\n",
              "  .colab-df-quickchart {\n",
              "    background-color: var(--bg-color);\n",
              "    border: none;\n",
              "    border-radius: 50%;\n",
              "    cursor: pointer;\n",
              "    display: none;\n",
              "    fill: var(--fill-color);\n",
              "    height: 32px;\n",
              "    padding: 0;\n",
              "    width: 32px;\n",
              "  }\n",
              "\n",
              "  .colab-df-quickchart:hover {\n",
              "    background-color: var(--hover-bg-color);\n",
              "    box-shadow: 0 1px 2px rgba(60, 64, 67, 0.3), 0 1px 3px 1px rgba(60, 64, 67, 0.15);\n",
              "    fill: var(--button-hover-fill-color);\n",
              "  }\n",
              "\n",
              "  .colab-df-quickchart-complete:disabled,\n",
              "  .colab-df-quickchart-complete:disabled:hover {\n",
              "    background-color: var(--disabled-bg-color);\n",
              "    fill: var(--disabled-fill-color);\n",
              "    box-shadow: none;\n",
              "  }\n",
              "\n",
              "  .colab-df-spinner {\n",
              "    border: 2px solid var(--fill-color);\n",
              "    border-color: transparent;\n",
              "    border-bottom-color: var(--fill-color);\n",
              "    animation:\n",
              "      spin 1s steps(1) infinite;\n",
              "  }\n",
              "\n",
              "  @keyframes spin {\n",
              "    0% {\n",
              "      border-color: transparent;\n",
              "      border-bottom-color: var(--fill-color);\n",
              "      border-left-color: var(--fill-color);\n",
              "    }\n",
              "    20% {\n",
              "      border-color: transparent;\n",
              "      border-left-color: var(--fill-color);\n",
              "      border-top-color: var(--fill-color);\n",
              "    }\n",
              "    30% {\n",
              "      border-color: transparent;\n",
              "      border-left-color: var(--fill-color);\n",
              "      border-top-color: var(--fill-color);\n",
              "      border-right-color: var(--fill-color);\n",
              "    }\n",
              "    40% {\n",
              "      border-color: transparent;\n",
              "      border-right-color: var(--fill-color);\n",
              "      border-top-color: var(--fill-color);\n",
              "    }\n",
              "    60% {\n",
              "      border-color: transparent;\n",
              "      border-right-color: var(--fill-color);\n",
              "    }\n",
              "    80% {\n",
              "      border-color: transparent;\n",
              "      border-right-color: var(--fill-color);\n",
              "      border-bottom-color: var(--fill-color);\n",
              "    }\n",
              "    90% {\n",
              "      border-color: transparent;\n",
              "      border-bottom-color: var(--fill-color);\n",
              "    }\n",
              "  }\n",
              "</style>\n",
              "\n",
              "  <script>\n",
              "    async function quickchart(key) {\n",
              "      const quickchartButtonEl =\n",
              "        document.querySelector('#' + key + ' button');\n",
              "      quickchartButtonEl.disabled = true;  // To prevent multiple clicks.\n",
              "      quickchartButtonEl.classList.add('colab-df-spinner');\n",
              "      try {\n",
              "        const charts = await google.colab.kernel.invokeFunction(\n",
              "            'suggestCharts', [key], {});\n",
              "      } catch (error) {\n",
              "        console.error('Error during call to suggestCharts:', error);\n",
              "      }\n",
              "      quickchartButtonEl.classList.remove('colab-df-spinner');\n",
              "      quickchartButtonEl.classList.add('colab-df-quickchart-complete');\n",
              "    }\n",
              "    (() => {\n",
              "      let quickchartButtonEl =\n",
              "        document.querySelector('#df-9f5999cc-e306-492e-bae9-1fb45bacdb42 button');\n",
              "      quickchartButtonEl.style.display =\n",
              "        google.colab.kernel.accessAllowed ? 'block' : 'none';\n",
              "    })();\n",
              "  </script>\n",
              "</div>\n",
              "\n",
              "  <div id=\"id_9cb75227-a8bc-4b83-851f-6cb2c58846ac\">\n",
              "    <style>\n",
              "      .colab-df-generate {\n",
              "        background-color: #E8F0FE;\n",
              "        border: none;\n",
              "        border-radius: 50%;\n",
              "        cursor: pointer;\n",
              "        display: none;\n",
              "        fill: #1967D2;\n",
              "        height: 32px;\n",
              "        padding: 0 0 0 0;\n",
              "        width: 32px;\n",
              "      }\n",
              "\n",
              "      .colab-df-generate:hover {\n",
              "        background-color: #E2EBFA;\n",
              "        box-shadow: 0px 1px 2px rgba(60, 64, 67, 0.3), 0px 1px 3px 1px rgba(60, 64, 67, 0.15);\n",
              "        fill: #174EA6;\n",
              "      }\n",
              "\n",
              "      [theme=dark] .colab-df-generate {\n",
              "        background-color: #3B4455;\n",
              "        fill: #D2E3FC;\n",
              "      }\n",
              "\n",
              "      [theme=dark] .colab-df-generate:hover {\n",
              "        background-color: #434B5C;\n",
              "        box-shadow: 0px 1px 3px 1px rgba(0, 0, 0, 0.15);\n",
              "        filter: drop-shadow(0px 1px 2px rgba(0, 0, 0, 0.3));\n",
              "        fill: #FFFFFF;\n",
              "      }\n",
              "    </style>\n",
              "    <button class=\"colab-df-generate\" onclick=\"generateWithVariable('df2')\"\n",
              "            title=\"Generate code using this dataframe.\"\n",
              "            style=\"display:none;\">\n",
              "\n",
              "  <svg xmlns=\"http://www.w3.org/2000/svg\" height=\"24px\"viewBox=\"0 0 24 24\"\n",
              "       width=\"24px\">\n",
              "    <path d=\"M7,19H8.4L18.45,9,17,7.55,7,17.6ZM5,21V16.75L18.45,3.32a2,2,0,0,1,2.83,0l1.4,1.43a1.91,1.91,0,0,1,.58,1.4,1.91,1.91,0,0,1-.58,1.4L9.25,21ZM18.45,9,17,7.55Zm-12,3A5.31,5.31,0,0,0,4.9,8.1,5.31,5.31,0,0,0,1,6.5,5.31,5.31,0,0,0,4.9,4.9,5.31,5.31,0,0,0,6.5,1,5.31,5.31,0,0,0,8.1,4.9,5.31,5.31,0,0,0,12,6.5,5.46,5.46,0,0,0,6.5,12Z\"/>\n",
              "  </svg>\n",
              "    </button>\n",
              "    <script>\n",
              "      (() => {\n",
              "      const buttonEl =\n",
              "        document.querySelector('#id_9cb75227-a8bc-4b83-851f-6cb2c58846ac button.colab-df-generate');\n",
              "      buttonEl.style.display =\n",
              "        google.colab.kernel.accessAllowed ? 'block' : 'none';\n",
              "\n",
              "      buttonEl.onclick = () => {\n",
              "        google.colab.notebook.generateWithVariable('df2');\n",
              "      }\n",
              "      })();\n",
              "    </script>\n",
              "  </div>\n",
              "\n",
              "    </div>\n",
              "  </div>\n"
            ],
            "application/vnd.google.colaboratory.intrinsic+json": {
              "type": "dataframe",
              "variable_name": "df2",
              "summary": "{\n  \"name\": \"df2\",\n  \"rows\": 3,\n  \"fields\": [\n    {\n      \"column\": \"title\",\n      \"properties\": {\n        \"dtype\": \"string\",\n        \"num_unique_values\": 3,\n        \"samples\": [\n          \"Fast & Furious\",\n          \"The Dark Knight\",\n          \"Memento\"\n        ],\n        \"semantic_type\": \"\",\n        \"description\": \"\"\n      }\n    },\n    {\n      \"column\": \"description\",\n      \"properties\": {\n        \"dtype\": \"string\",\n        \"num_unique_values\": 3,\n        \"samples\": [\n          \"A movie, a race, a franchise\",\n          \"Gotham, the \\\"Batman\\\", and the Joker\",\n          \"A guy forgets everything every 15 minutes\"\n        ],\n        \"semantic_type\": \"\",\n        \"description\": \"\"\n      }\n    }\n  ]\n}"
            }
          },
          "metadata": {},
          "execution_count": 185
        }
      ]
    },
    {
      "cell_type": "markdown",
      "metadata": {
        "id": "i32vEgdNooxl"
      },
      "source": [
        "Can you guess what the argument `index=None` does? Try removing it and observing the difference in output."
      ]
    },
    {
      "cell_type": "code",
      "execution_count": 186,
      "metadata": {
        "colab": {
          "base_uri": "https://localhost:8080/"
        },
        "id": "H6oSvb7iooxl",
        "outputId": "a1d5a2f0-4ad7-4214-f8aa-4deab1d68a1b"
      },
      "outputs": [
        {
          "output_type": "stream",
          "name": "stdout",
          "text": [
            ",title,description\n",
            "0,Fast & Furious,\"A movie, a race, a franchise\"\n",
            "1,The Dark Knight,\"Gotham, the \"\"Batman\"\", and the Joker\"\n",
            "2,Memento,A guy forgets everything every 15 minutes\n"
          ]
        }
      ],
      "source": [
        "!head movies3.csv"
      ]
    },
    {
      "cell_type": "markdown",
      "metadata": {
        "id": "wFW2l-8cooxl"
      },
      "source": [
        "The CSV file is formatted properly. We can verify this by trying to read it back."
      ]
    },
    {
      "cell_type": "code",
      "execution_count": 187,
      "metadata": {
        "colab": {
          "base_uri": "https://localhost:8080/",
          "height": 143
        },
        "id": "7x4nvD_Oooxm",
        "outputId": "5376e6b7-b237-482e-e380-769a7c21819d"
      },
      "outputs": [
        {
          "output_type": "execute_result",
          "data": {
            "text/plain": [
              "   Unnamed: 0            title                                description\n",
              "0           0   Fast & Furious               A movie, a race, a franchise\n",
              "1           1  The Dark Knight        Gotham, the \"Batman\", and the Joker\n",
              "2           2          Memento  A guy forgets everything every 15 minutes"
            ],
            "text/html": [
              "\n",
              "  <div id=\"df-99606060-6d6e-406e-892a-cacada9ee26c\" class=\"colab-df-container\">\n",
              "    <div>\n",
              "<style scoped>\n",
              "    .dataframe tbody tr th:only-of-type {\n",
              "        vertical-align: middle;\n",
              "    }\n",
              "\n",
              "    .dataframe tbody tr th {\n",
              "        vertical-align: top;\n",
              "    }\n",
              "\n",
              "    .dataframe thead th {\n",
              "        text-align: right;\n",
              "    }\n",
              "</style>\n",
              "<table border=\"1\" class=\"dataframe\">\n",
              "  <thead>\n",
              "    <tr style=\"text-align: right;\">\n",
              "      <th></th>\n",
              "      <th>Unnamed: 0</th>\n",
              "      <th>title</th>\n",
              "      <th>description</th>\n",
              "    </tr>\n",
              "  </thead>\n",
              "  <tbody>\n",
              "    <tr>\n",
              "      <th>0</th>\n",
              "      <td>0</td>\n",
              "      <td>Fast &amp; Furious</td>\n",
              "      <td>A movie, a race, a franchise</td>\n",
              "    </tr>\n",
              "    <tr>\n",
              "      <th>1</th>\n",
              "      <td>1</td>\n",
              "      <td>The Dark Knight</td>\n",
              "      <td>Gotham, the \"Batman\", and the Joker</td>\n",
              "    </tr>\n",
              "    <tr>\n",
              "      <th>2</th>\n",
              "      <td>2</td>\n",
              "      <td>Memento</td>\n",
              "      <td>A guy forgets everything every 15 minutes</td>\n",
              "    </tr>\n",
              "  </tbody>\n",
              "</table>\n",
              "</div>\n",
              "    <div class=\"colab-df-buttons\">\n",
              "\n",
              "  <div class=\"colab-df-container\">\n",
              "    <button class=\"colab-df-convert\" onclick=\"convertToInteractive('df-99606060-6d6e-406e-892a-cacada9ee26c')\"\n",
              "            title=\"Convert this dataframe to an interactive table.\"\n",
              "            style=\"display:none;\">\n",
              "\n",
              "  <svg xmlns=\"http://www.w3.org/2000/svg\" height=\"24px\" viewBox=\"0 -960 960 960\">\n",
              "    <path d=\"M120-120v-720h720v720H120Zm60-500h600v-160H180v160Zm220 220h160v-160H400v160Zm0 220h160v-160H400v160ZM180-400h160v-160H180v160Zm440 0h160v-160H620v160ZM180-180h160v-160H180v160Zm440 0h160v-160H620v160Z\"/>\n",
              "  </svg>\n",
              "    </button>\n",
              "\n",
              "  <style>\n",
              "    .colab-df-container {\n",
              "      display:flex;\n",
              "      gap: 12px;\n",
              "    }\n",
              "\n",
              "    .colab-df-convert {\n",
              "      background-color: #E8F0FE;\n",
              "      border: none;\n",
              "      border-radius: 50%;\n",
              "      cursor: pointer;\n",
              "      display: none;\n",
              "      fill: #1967D2;\n",
              "      height: 32px;\n",
              "      padding: 0 0 0 0;\n",
              "      width: 32px;\n",
              "    }\n",
              "\n",
              "    .colab-df-convert:hover {\n",
              "      background-color: #E2EBFA;\n",
              "      box-shadow: 0px 1px 2px rgba(60, 64, 67, 0.3), 0px 1px 3px 1px rgba(60, 64, 67, 0.15);\n",
              "      fill: #174EA6;\n",
              "    }\n",
              "\n",
              "    .colab-df-buttons div {\n",
              "      margin-bottom: 4px;\n",
              "    }\n",
              "\n",
              "    [theme=dark] .colab-df-convert {\n",
              "      background-color: #3B4455;\n",
              "      fill: #D2E3FC;\n",
              "    }\n",
              "\n",
              "    [theme=dark] .colab-df-convert:hover {\n",
              "      background-color: #434B5C;\n",
              "      box-shadow: 0px 1px 3px 1px rgba(0, 0, 0, 0.15);\n",
              "      filter: drop-shadow(0px 1px 2px rgba(0, 0, 0, 0.3));\n",
              "      fill: #FFFFFF;\n",
              "    }\n",
              "  </style>\n",
              "\n",
              "    <script>\n",
              "      const buttonEl =\n",
              "        document.querySelector('#df-99606060-6d6e-406e-892a-cacada9ee26c button.colab-df-convert');\n",
              "      buttonEl.style.display =\n",
              "        google.colab.kernel.accessAllowed ? 'block' : 'none';\n",
              "\n",
              "      async function convertToInteractive(key) {\n",
              "        const element = document.querySelector('#df-99606060-6d6e-406e-892a-cacada9ee26c');\n",
              "        const dataTable =\n",
              "          await google.colab.kernel.invokeFunction('convertToInteractive',\n",
              "                                                    [key], {});\n",
              "        if (!dataTable) return;\n",
              "\n",
              "        const docLinkHtml = 'Like what you see? Visit the ' +\n",
              "          '<a target=\"_blank\" href=https://colab.research.google.com/notebooks/data_table.ipynb>data table notebook</a>'\n",
              "          + ' to learn more about interactive tables.';\n",
              "        element.innerHTML = '';\n",
              "        dataTable['output_type'] = 'display_data';\n",
              "        await google.colab.output.renderOutput(dataTable, element);\n",
              "        const docLink = document.createElement('div');\n",
              "        docLink.innerHTML = docLinkHtml;\n",
              "        element.appendChild(docLink);\n",
              "      }\n",
              "    </script>\n",
              "  </div>\n",
              "\n",
              "\n",
              "<div id=\"df-71a3cf3e-5897-48be-bbe1-646b79c979fb\">\n",
              "  <button class=\"colab-df-quickchart\" onclick=\"quickchart('df-71a3cf3e-5897-48be-bbe1-646b79c979fb')\"\n",
              "            title=\"Suggest charts\"\n",
              "            style=\"display:none;\">\n",
              "\n",
              "<svg xmlns=\"http://www.w3.org/2000/svg\" height=\"24px\"viewBox=\"0 0 24 24\"\n",
              "     width=\"24px\">\n",
              "    <g>\n",
              "        <path d=\"M19 3H5c-1.1 0-2 .9-2 2v14c0 1.1.9 2 2 2h14c1.1 0 2-.9 2-2V5c0-1.1-.9-2-2-2zM9 17H7v-7h2v7zm4 0h-2V7h2v10zm4 0h-2v-4h2v4z\"/>\n",
              "    </g>\n",
              "</svg>\n",
              "  </button>\n",
              "\n",
              "<style>\n",
              "  .colab-df-quickchart {\n",
              "      --bg-color: #E8F0FE;\n",
              "      --fill-color: #1967D2;\n",
              "      --hover-bg-color: #E2EBFA;\n",
              "      --hover-fill-color: #174EA6;\n",
              "      --disabled-fill-color: #AAA;\n",
              "      --disabled-bg-color: #DDD;\n",
              "  }\n",
              "\n",
              "  [theme=dark] .colab-df-quickchart {\n",
              "      --bg-color: #3B4455;\n",
              "      --fill-color: #D2E3FC;\n",
              "      --hover-bg-color: #434B5C;\n",
              "      --hover-fill-color: #FFFFFF;\n",
              "      --disabled-bg-color: #3B4455;\n",
              "      --disabled-fill-color: #666;\n",
              "  }\n",
              "\n",
              "  .colab-df-quickchart {\n",
              "    background-color: var(--bg-color);\n",
              "    border: none;\n",
              "    border-radius: 50%;\n",
              "    cursor: pointer;\n",
              "    display: none;\n",
              "    fill: var(--fill-color);\n",
              "    height: 32px;\n",
              "    padding: 0;\n",
              "    width: 32px;\n",
              "  }\n",
              "\n",
              "  .colab-df-quickchart:hover {\n",
              "    background-color: var(--hover-bg-color);\n",
              "    box-shadow: 0 1px 2px rgba(60, 64, 67, 0.3), 0 1px 3px 1px rgba(60, 64, 67, 0.15);\n",
              "    fill: var(--button-hover-fill-color);\n",
              "  }\n",
              "\n",
              "  .colab-df-quickchart-complete:disabled,\n",
              "  .colab-df-quickchart-complete:disabled:hover {\n",
              "    background-color: var(--disabled-bg-color);\n",
              "    fill: var(--disabled-fill-color);\n",
              "    box-shadow: none;\n",
              "  }\n",
              "\n",
              "  .colab-df-spinner {\n",
              "    border: 2px solid var(--fill-color);\n",
              "    border-color: transparent;\n",
              "    border-bottom-color: var(--fill-color);\n",
              "    animation:\n",
              "      spin 1s steps(1) infinite;\n",
              "  }\n",
              "\n",
              "  @keyframes spin {\n",
              "    0% {\n",
              "      border-color: transparent;\n",
              "      border-bottom-color: var(--fill-color);\n",
              "      border-left-color: var(--fill-color);\n",
              "    }\n",
              "    20% {\n",
              "      border-color: transparent;\n",
              "      border-left-color: var(--fill-color);\n",
              "      border-top-color: var(--fill-color);\n",
              "    }\n",
              "    30% {\n",
              "      border-color: transparent;\n",
              "      border-left-color: var(--fill-color);\n",
              "      border-top-color: var(--fill-color);\n",
              "      border-right-color: var(--fill-color);\n",
              "    }\n",
              "    40% {\n",
              "      border-color: transparent;\n",
              "      border-right-color: var(--fill-color);\n",
              "      border-top-color: var(--fill-color);\n",
              "    }\n",
              "    60% {\n",
              "      border-color: transparent;\n",
              "      border-right-color: var(--fill-color);\n",
              "    }\n",
              "    80% {\n",
              "      border-color: transparent;\n",
              "      border-right-color: var(--fill-color);\n",
              "      border-bottom-color: var(--fill-color);\n",
              "    }\n",
              "    90% {\n",
              "      border-color: transparent;\n",
              "      border-bottom-color: var(--fill-color);\n",
              "    }\n",
              "  }\n",
              "</style>\n",
              "\n",
              "  <script>\n",
              "    async function quickchart(key) {\n",
              "      const quickchartButtonEl =\n",
              "        document.querySelector('#' + key + ' button');\n",
              "      quickchartButtonEl.disabled = true;  // To prevent multiple clicks.\n",
              "      quickchartButtonEl.classList.add('colab-df-spinner');\n",
              "      try {\n",
              "        const charts = await google.colab.kernel.invokeFunction(\n",
              "            'suggestCharts', [key], {});\n",
              "      } catch (error) {\n",
              "        console.error('Error during call to suggestCharts:', error);\n",
              "      }\n",
              "      quickchartButtonEl.classList.remove('colab-df-spinner');\n",
              "      quickchartButtonEl.classList.add('colab-df-quickchart-complete');\n",
              "    }\n",
              "    (() => {\n",
              "      let quickchartButtonEl =\n",
              "        document.querySelector('#df-71a3cf3e-5897-48be-bbe1-646b79c979fb button');\n",
              "      quickchartButtonEl.style.display =\n",
              "        google.colab.kernel.accessAllowed ? 'block' : 'none';\n",
              "    })();\n",
              "  </script>\n",
              "</div>\n",
              "\n",
              "    </div>\n",
              "  </div>\n"
            ],
            "application/vnd.google.colaboratory.intrinsic+json": {
              "type": "dataframe",
              "summary": "{\n  \"name\": \"pd\",\n  \"rows\": 3,\n  \"fields\": [\n    {\n      \"column\": \"Unnamed: 0\",\n      \"properties\": {\n        \"dtype\": \"number\",\n        \"std\": 1,\n        \"min\": 0,\n        \"max\": 2,\n        \"num_unique_values\": 3,\n        \"samples\": [\n          0,\n          1,\n          2\n        ],\n        \"semantic_type\": \"\",\n        \"description\": \"\"\n      }\n    },\n    {\n      \"column\": \"title\",\n      \"properties\": {\n        \"dtype\": \"string\",\n        \"num_unique_values\": 3,\n        \"samples\": [\n          \"Fast & Furious\",\n          \"The Dark Knight\",\n          \"Memento\"\n        ],\n        \"semantic_type\": \"\",\n        \"description\": \"\"\n      }\n    },\n    {\n      \"column\": \"description\",\n      \"properties\": {\n        \"dtype\": \"string\",\n        \"num_unique_values\": 3,\n        \"samples\": [\n          \"A movie, a race, a franchise\",\n          \"Gotham, the \\\"Batman\\\", and the Joker\",\n          \"A guy forgets everything every 15 minutes\"\n        ],\n        \"semantic_type\": \"\",\n        \"description\": \"\"\n      }\n    }\n  ]\n}"
            }
          },
          "metadata": {},
          "execution_count": 187
        }
      ],
      "source": [
        "pd.read_csv('movies3.csv')"
      ]
    },
    {
      "cell_type": "markdown",
      "metadata": {
        "id": "I5SHXaj_ooxm"
      },
      "source": [
        "We're able to write and read the file properly with `pandas`.\n",
        "\n",
        "In general, it's always a better idea to use libraries like Pandas for reading and writing CSV files."
      ]
    },
    {
      "cell_type": "markdown",
      "metadata": {
        "id": "DdlGeLaaooxn"
      },
      "source": [
        "## Exercise - Processing CSV files using a dictionary of lists\n",
        "\n",
        "We defined the functions `read_csv` and `write_csv` above to convert a CSV file into a list of dictionaries and vice versa. In this exercise, you'll transform the CSV data into a dictionary of lists instead, with one list for each column in the file.\n",
        "\n",
        "For example, consider the following CSV file:\n",
        "\n",
        "```\n",
        "amount,duration,rate,down_payment\n",
        "828400,120,0.11,100000\n",
        "4633400,240,0.06,\n",
        "42900,90,0.08,8900\n",
        "983000,16,0.14,\n",
        "15230,48,0.07,4300\n",
        "```\n",
        "\n",
        "We'll convert it into the following dictionary of lists:\n",
        "\n",
        "```\n",
        "{\n",
        "  amount: [828400, 4633400, 42900, 983000, 15230],\n",
        "  duration: []120, 240, 90, 16, 48],\n",
        "  rate: [0.11, 0.06, 0.08, 0.14, 0.07],\n",
        "  down_payment: [100000, 0, 8900, 0, 4300]\n",
        "}\n",
        "```\n",
        "\n",
        "Complete the following tasks using the empty cells below:\n",
        "\n",
        "1. Download three CSV files to the folder `data2` using the URLs listed in the code cell below, and verify the downloaded files.\n",
        "2. Define a function `read_csv_columnar` that reads a CSV file and returns a dictionary of lists in the format shown above.\n",
        "3. Define a function `compute_emis` that adds another key `emi` into the dictionary with a list of EMIs computed for each row of data.\n",
        "4. Define a function `write_csv_columnar` that writes the data from the dictionary of lists into a correctly formatted CSV file.\n",
        "5. Process all three downloaded files and write the results by creating new files in the directory `data2`.\n",
        "\n",
        "Define helper functions wherever required.\n"
      ]
    },
    {
      "cell_type": "code",
      "source": [
        "import os"
      ],
      "metadata": {
        "id": "3-1CcfBErT1N"
      },
      "execution_count": 67,
      "outputs": []
    },
    {
      "cell_type": "code",
      "execution_count": 68,
      "metadata": {
        "id": "Wm3k3Ls3ooxn"
      },
      "outputs": [],
      "source": [
        "url1 = 'https://gist.githubusercontent.com/aakashns/257f6e6c8719c17d0e498ea287d1a386/raw/7def9ef4234ddf0bc82f855ad67dac8b971852ef/loans1.txt'\n",
        "url2 = 'https://gist.githubusercontent.com/aakashns/257f6e6c8719c17d0e498ea287d1a386/raw/7def9ef4234ddf0bc82f855ad67dac8b971852ef/loans2.txt'\n",
        "url3 = 'https://gist.githubusercontent.com/aakashns/257f6e6c8719c17d0e498ea287d1a386/raw/7def9ef4234ddf0bc82f855ad67dac8b971852ef/loans3.txt'"
      ]
    },
    {
      "cell_type": "code",
      "source": [
        "os.makedirs('./data2', exist_ok=True)"
      ],
      "metadata": {
        "id": "Ou54XXU20wl1"
      },
      "execution_count": 69,
      "outputs": []
    },
    {
      "cell_type": "code",
      "execution_count": 70,
      "metadata": {
        "colab": {
          "base_uri": "https://localhost:8080/"
        },
        "id": "SYp7K0aOooxn",
        "outputId": "dda8f0e8-4888-475c-a60f-345fce2da6c1"
      },
      "outputs": [
        {
          "output_type": "execute_result",
          "data": {
            "text/plain": [
              "('./data2/loans3.txt', <http.client.HTTPMessage at 0x7ee5cdb4c410>)"
            ]
          },
          "metadata": {},
          "execution_count": 70
        }
      ],
      "source": [
        "from urllib.request import urlretrieve\n",
        "\n",
        "urlretrieve(url1, './data2/loans1.txt')\n",
        "urlretrieve(url2, './data2/loans2.txt')\n",
        "urlretrieve(url3, './data2/loans3.txt')"
      ]
    },
    {
      "cell_type": "code",
      "source": [
        "os.listdir('./data2')"
      ],
      "metadata": {
        "colab": {
          "base_uri": "https://localhost:8080/"
        },
        "id": "FBqeWcRt04Ad",
        "outputId": "b861e681-d9d0-4c9b-f476-f7be1b85bb74"
      },
      "execution_count": 71,
      "outputs": [
        {
          "output_type": "execute_result",
          "data": {
            "text/plain": [
              "['loans3.txt', 'loans1.txt', 'loans2.txt', 'emis2.txt']"
            ]
          },
          "metadata": {},
          "execution_count": 71
        }
      ]
    },
    {
      "cell_type": "code",
      "execution_count": 72,
      "metadata": {
        "id": "12kU_t5Xooxn"
      },
      "outputs": [],
      "source": [
        "def parse_headers(header_line):\n",
        "    return header_line.strip().split(',')\n",
        "\n",
        "def parse_values(data_line):\n",
        "    values = []\n",
        "    for item in data_line.strip().split(','):\n",
        "        if item == '':\n",
        "            values.append(0.0)\n",
        "        else:\n",
        "            try:\n",
        "                values.append(float(item))\n",
        "            except ValueError:\n",
        "                values.append(item)\n",
        "    return values\n",
        "\n",
        "\n",
        "def read_csv_columnar(path):\n",
        "    results = {}\n",
        "    # Open the file in read mode\n",
        "    with open(path, 'r') as f:\n",
        "        # Get a list of lines\n",
        "        lines = f.readlines()\n",
        "        # Parse the header\n",
        "        headers = parse_headers(lines[0])\n",
        "        # Loop over the remaining lines\n",
        "\n",
        "        values_list = []\n",
        "\n",
        "        for data_line in lines[1:]:\n",
        "            # Parse the values\n",
        "            values = parse_values(data_line)\n",
        "            values_list.append(values)\n",
        "\n",
        "        transposed_list = [list(row) for row in zip(*values_list)]\n",
        "\n",
        "        for value, header in zip(transposed_list, headers):\n",
        "          results[header] = value\n",
        "    return results"
      ]
    },
    {
      "cell_type": "code",
      "source": [
        "with open('./data2/loans2.txt') as file2:\n",
        "    print(file2.read())"
      ],
      "metadata": {
        "colab": {
          "base_uri": "https://localhost:8080/"
        },
        "id": "HAhrITyv5rlW",
        "outputId": "b437aa83-ad47-499a-a091-37fb5e2086dd"
      },
      "execution_count": 73,
      "outputs": [
        {
          "output_type": "stream",
          "name": "stdout",
          "text": [
            "amount,duration,rate,down_payment\n",
            "828400,120,0.11,100000\n",
            "4633400,240,0.06,\n",
            "42900,90,0.08,8900\n",
            "983000,16,0.14,\n",
            "15230,48,0.07,4300\n"
          ]
        }
      ]
    },
    {
      "cell_type": "code",
      "source": [
        "read_csv_columnar('./data2/loans2.txt')"
      ],
      "metadata": {
        "colab": {
          "base_uri": "https://localhost:8080/"
        },
        "id": "v2lQ6ZOI5u4t",
        "outputId": "f2a75750-671c-4304-acca-1833ded96ad6"
      },
      "execution_count": 74,
      "outputs": [
        {
          "output_type": "execute_result",
          "data": {
            "text/plain": [
              "{'amount': [828400.0, 4633400.0, 42900.0, 983000.0, 15230.0],\n",
              " 'duration': [120.0, 240.0, 90.0, 16.0, 48.0],\n",
              " 'rate': [0.11, 0.06, 0.08, 0.14, 0.07],\n",
              " 'down_payment': [100000.0, 0.0, 8900.0, 0.0, 4300.0]}"
            ]
          },
          "metadata": {},
          "execution_count": 74
        }
      ]
    },
    {
      "cell_type": "code",
      "execution_count": 75,
      "metadata": {
        "id": "BAiFFF31ooxn"
      },
      "outputs": [],
      "source": [
        "loan2 = read_csv_columnar('./data2/loans2.txt')"
      ]
    },
    {
      "cell_type": "code",
      "execution_count": 76,
      "metadata": {
        "id": "1reqCeirooxn"
      },
      "outputs": [],
      "source": [
        "import math\n",
        "\n",
        "def loan_emi(amount, duration, rate, down_payment=0):\n",
        "    \"\"\"Calculates the equal montly installment (EMI) for a loan.\n",
        "\n",
        "    Arguments:\n",
        "        amount - Total amount to be spent (loan + down payment)\n",
        "        duration - Duration of the loan (in months)\n",
        "        rate - Rate of interest (monthly)\n",
        "        down_payment (optional) - Optional intial payment (deducted from amount)\n",
        "    \"\"\"\n",
        "    loan_amount = amount - down_payment\n",
        "    try:\n",
        "        emi = loan_amount * rate * ((1+rate)**duration) / (((1+rate)**duration)-1)\n",
        "    except ZeroDivisionError:\n",
        "        emi = loan_amount / duration\n",
        "    emi = math.ceil(emi)\n",
        "    return emi"
      ]
    },
    {
      "cell_type": "code",
      "source": [
        "loan2"
      ],
      "metadata": {
        "colab": {
          "base_uri": "https://localhost:8080/"
        },
        "id": "MtSmXhjCXcdn",
        "outputId": "ba2c0900-64b1-4e78-df4d-c9b8013d3023"
      },
      "execution_count": 77,
      "outputs": [
        {
          "output_type": "execute_result",
          "data": {
            "text/plain": [
              "{'amount': [828400.0, 4633400.0, 42900.0, 983000.0, 15230.0],\n",
              " 'duration': [120.0, 240.0, 90.0, 16.0, 48.0],\n",
              " 'rate': [0.11, 0.06, 0.08, 0.14, 0.07],\n",
              " 'down_payment': [100000.0, 0.0, 8900.0, 0.0, 4300.0]}"
            ]
          },
          "metadata": {},
          "execution_count": 77
        }
      ]
    },
    {
      "cell_type": "code",
      "source": [
        "def compute_emis(loans):\n",
        "    emis = []\n",
        "\n",
        "    for i in range(len(loans['amount'])):\n",
        "        amount = loans['amount'][i]\n",
        "        duration = loans['duration'][i]\n",
        "        rate = loans['rate'][i]\n",
        "        down_payment = loans['down_payment'][i]\n",
        "\n",
        "        emi = loan_emi(amount, duration, rate, down_payment)\n",
        "        emis.append(emi)\n",
        "\n",
        "    loans['emi'] = emis"
      ],
      "metadata": {
        "id": "E_Hy20YvW95B"
      },
      "execution_count": 78,
      "outputs": []
    },
    {
      "cell_type": "code",
      "source": [
        "compute_emis(loan2)"
      ],
      "metadata": {
        "id": "bW3jzf6TXT2Z"
      },
      "execution_count": 79,
      "outputs": []
    },
    {
      "cell_type": "code",
      "source": [
        "loan2"
      ],
      "metadata": {
        "colab": {
          "base_uri": "https://localhost:8080/"
        },
        "id": "YZZdF1x3rm4G",
        "outputId": "8d3a68e6-9142-4989-b9e0-046daf27d423"
      },
      "execution_count": 80,
      "outputs": [
        {
          "output_type": "execute_result",
          "data": {
            "text/plain": [
              "{'amount': [828400.0, 4633400.0, 42900.0, 983000.0, 15230.0],\n",
              " 'duration': [120.0, 240.0, 90.0, 16.0, 48.0],\n",
              " 'rate': [0.11, 0.06, 0.08, 0.14, 0.07],\n",
              " 'down_payment': [100000.0, 0.0, 8900.0, 0.0, 4300.0],\n",
              " 'emi': [80125, 278005, 2723, 156902, 797]}"
            ]
          },
          "metadata": {},
          "execution_count": 80
        }
      ]
    },
    {
      "cell_type": "code",
      "source": [
        "def write_csv_columnar(items, path):\n",
        "    # Open the file in write mode\n",
        "    with open(path, 'w') as f:\n",
        "        # Return if there's nothing to write\n",
        "        if len(items) == 0:\n",
        "            return\n",
        "\n",
        "        headers = list(items.keys())\n",
        "        f.write(','.join(headers) + '\\n')\n",
        "\n",
        "        for item in zip(*items.values()):\n",
        "            values = [str(value) for value in item]\n",
        "            f.write(','.join(values) + \"\\n\")"
      ],
      "metadata": {
        "id": "8k17m8KKr8x1"
      },
      "execution_count": 112,
      "outputs": []
    },
    {
      "cell_type": "code",
      "source": [
        "write_csv_columnar(loan2, './data2/emis2.txt')"
      ],
      "metadata": {
        "id": "_D8XJu7btlIl"
      },
      "execution_count": 113,
      "outputs": []
    },
    {
      "cell_type": "code",
      "source": [
        "for i in range(1,4):\n",
        "    loans = read_csv_columnar('./data2/loans{}.txt'.format(i))\n",
        "    compute_emis(loans)\n",
        "    write_csv_columnar(loans, './data2/emis{}.txt'.format(i))"
      ],
      "metadata": {
        "id": "djnPjdCeOLrB"
      },
      "execution_count": 115,
      "outputs": []
    },
    {
      "cell_type": "markdown",
      "metadata": {
        "id": "0ljpjBtGooxo"
      },
      "source": [
        "## Summary and Further Reading\n",
        "\n",
        "With this, we complete our discussion of reading from and writing to files in Python. We've covered the following topics in this tutorial:\n",
        "\n",
        "* Interacting with the file system using the `os` module\n",
        "* Downloading files from URLs using the `urllib` module\n",
        "* Opening files using the `open` built-in function\n",
        "* Reading the contents of a file using `.read`\n",
        "* Closing a file automatically using `with`\n",
        "* Reading a file line by line using `readlines`\n",
        "* Processing data from a CSV file by defining functions\n",
        "* Using helper functions to build more complex functions\n",
        "* Writing data to a file using `.write`\n",
        "\n",
        "This tutorial on working with files in Python is by no means exhaustive. Following are some more resources you should check out:\n",
        "\n",
        "* Python Tutorial at W3Schools: https://www.w3schools.com/python/\n",
        "* Practical Python Programming: https://dabeaz-course.github.io/practical-python/Notes/Contents.html\n",
        "* Python official documentation: https://docs.python.org/3/tutorial/index.html\n",
        "\n",
        "You are ready to move on to the next tutorial: [Numerical Computing with Python and Numpy](https://jovian.ai/aakashns/python-numerical-computing-with-numpy)."
      ]
    },
    {
      "cell_type": "markdown",
      "metadata": {
        "id": "LS1_rOqOooxo"
      },
      "source": [
        "## Questions for Revision\n",
        "\n",
        "Try answering the following questions to test your understanding of the topics covered in this notebook:\n",
        "\n",
        "1. What is the purpose of the `os` module in Python?\n",
        "2. How do you identify the current working directory in a Jupyter notebook?\n",
        "3. How do you retrieve the list of files within a directory using Python?\n",
        "4. How do you create a directory using Python?\n",
        "5. How do you check whether a file or directory exists on the filesystem? Hint: `os.path.exists`.\n",
        "6. Where can you find the full list of functions contained in the `os` module?\n",
        "7. Give examples of 5 useful functions from the `os` and `os.path` modules.\n",
        "8. How do you download a file from a URL using Python?\n",
        "9. How do you open a file using Python? Give an example?\n",
        "10. What are the different modes for opening a file in Python?\n",
        "11. Can you open a file in multiple modes? Illustrate with an example.\n",
        "12. What is the file object? How is it useful?\n",
        "13. How do you read the contents of a file into a string?\n",
        "14. What is a CSV file? Give an example.\n",
        "15. How do you close an open file?\n",
        "16. Why is it essential to close a file after processing it?\n",
        "17. How do you ensure that files are closed automatically after processing? Give an example.\n",
        "18. How is the `with` statement useful for working with files?\n",
        "19. What happens if you try to read from a closed file?\n",
        "20. How do you read the contents of a file line by line?\n",
        "21. Write a function to convert the contents of a CSV file into a list of dictionaries (one dictionary for each row of the file).\n",
        "22. Write a function to convert the contents of a CSV file into a dictionary of lists (one dictionary for each column of the file).\n",
        "23. How do you write to a file using Python?\n",
        "24. How is the string `.format` method for writing data to a file in CSV format?\n",
        "25. Write a function to write data from a list of dictionaries into a CSV file.\n",
        "26. Write a function to write data from a dictionary of lists into a CSV file.\n",
        "27. Where can you learn about the methods supported by the file object in Python?\n",
        "28. How can you read from and write to CSV files using Pandas?\n"
      ]
    }
  ],
  "metadata": {
    "kernelspec": {
      "display_name": "Python 3",
      "language": "python",
      "name": "python3"
    },
    "language_info": {
      "codemirror_mode": {
        "name": "ipython",
        "version": 3
      },
      "file_extension": ".py",
      "mimetype": "text/x-python",
      "name": "python",
      "nbconvert_exporter": "python",
      "pygments_lexer": "ipython3",
      "version": "3.8.6"
    },
    "colab": {
      "provenance": [],
      "include_colab_link": true
    }
  },
  "nbformat": 4,
  "nbformat_minor": 0
}
